{
 "cells": [
  {
   "cell_type": "markdown",
   "id": "77b9fb84",
   "metadata": {},
   "source": [
    "## India vs West Indies 1st T-20 Analysis"
   ]
  },
  {
   "cell_type": "code",
   "execution_count": 1,
   "id": "f12ef374",
   "metadata": {},
   "outputs": [],
   "source": [
    "import numpy as np\n",
    "import pandas as pd\n",
    "from matplotlib import pyplot as plt"
   ]
  },
  {
   "cell_type": "code",
   "execution_count": 2,
   "id": "78651ae7",
   "metadata": {},
   "outputs": [
    {
     "name": "stdout",
     "output_type": "stream",
     "text": [
      "Date of the match is 2022-07-29\n",
      "T20:- 1 of 5\n",
      "India vs West Indies\n",
      "Toss: West Indies won the toss and decided to bowl\n",
      "Stadium: Brian Lara Cricket Academy\n"
     ]
    }
   ],
   "source": [
    "def match_day():\n",
    "    from datetime import date\n",
    "    match_date = date(2022, 7, 29)\n",
    "    \n",
    "    print(\"Date of the match is\",match_date)\n",
    "    \n",
    "    print(\"T20:- 1 of 5\")\n",
    "\n",
    "    print(\"India vs West Indies\")\n",
    "    \n",
    "    toss_winner = \"West Indies\"\n",
    "    toss_decision = \"bowl\"\n",
    "    \n",
    "    print(\"Toss:\",toss_winner,\"won the toss and decided to\",toss_decision)\n",
    "    \n",
    "    Stadium = 'Brian Lara Cricket Academy'\n",
    "    print(\"Stadium:\",Stadium)\n",
    "    \n",
    "match_day()"
   ]
  },
  {
   "cell_type": "markdown",
   "id": "4e038563",
   "metadata": {},
   "source": [
    "## India Scorecard"
   ]
  },
  {
   "cell_type": "code",
   "execution_count": 3,
   "id": "5bdea038",
   "metadata": {},
   "outputs": [
    {
     "name": "stdout",
     "output_type": "stream",
     "text": [
      "India Playing XI:-\n",
      "\n",
      "Rohit Sharma (c)\n",
      "Suryakumar Yadav\n",
      "Shreyas Iyer\n",
      "Rishabh Pant (wk)\n",
      "Hardik Pandya\n",
      "Ravindra Jadeja \n",
      "Dinesh Karthik\n",
      "Ravi Bishnoi\n",
      "Bhuvneshwar Kumar\n",
      "Ravichandran Ashwin\n",
      "Arshdeep Singh\n",
      "\n",
      "SCORECARD\n",
      "*** India Batting ***\n",
      "               Batting   R   B  4s  6s     S/R\n",
      "0     Rohit Sharma (c)  64  44   7   2  145.45\n",
      "1     Suryakumar Yadav  24  16   3   1  150.00\n",
      "2         Shreyas Iyer   0   4   0   0    0.00\n",
      "3    Rishabh Pant (wk)  14  12   2   0  116.67\n",
      "4        Hardik Pandya   1   3   0   0   33.33\n",
      "5     Ravindra Jadeja   16  13   2   0  123.08\n",
      "6       Dinesh Karthik  41  19   4   2  215.79\n",
      "7  Ravichandran Ashwin  13  10   0   1  130.00\n",
      "\n",
      "\n",
      "Yet to bat:\n",
      "Ravi Bishnoi\n",
      "Bhuvneshwar Kumar\n",
      "Arshdeep Singh\n",
      "\n",
      "***WI Bowlig***\n",
      "\n",
      "          Bowling    O  M   R  W  Econ\n",
      "0      Obed McCoy  4.0  0  30  1   7.5\n",
      "1    Jason Holder  4.0  0  50  1  12.5\n",
      "2    Akeal Hosein  4.0  0  14  1   3.5\n",
      "3  Alzarri Joseph  4.0  0  46  2  11.5\n",
      "4     Odean Smith  2.0  0  18  0   9.0\n",
      "5      Keemo Paul  2.0  0  24  1  12.0\n",
      "\n",
      "\n",
      "India Total Fours: 18\n",
      "\n",
      "India Total Sixes: 6\n",
      "\n",
      "Extras: 17\n",
      "\n",
      "Total runs: 190\n"
     ]
    }
   ],
   "source": [
    "print(\"India Playing XI:-\\n\")\n",
    "playing_11=['Rohit Sharma (c)','Suryakumar Yadav','Shreyas Iyer','Rishabh Pant (wk)','Hardik Pandya',\n",
    "                'Ravindra Jadeja ','Dinesh Karthik','Ravi Bishnoi','Bhuvneshwar Kumar',\n",
    "                'Ravichandran Ashwin','Arshdeep Singh']\n",
    "    \n",
    "for i in playing_11:\n",
    "        print(i)\n",
    "        \n",
    "print(\"\\nSCORECARD\")\n",
    "print(\"*** India Batting ***\")\n",
    "    \n",
    "player=['Rohit Sharma (c)','Suryakumar Yadav','Shreyas Iyer','Rishabh Pant (wk)','Hardik Pandya',\n",
    "                'Ravindra Jadeja ','Dinesh Karthik','Ravichandran Ashwin']\n",
    "    \n",
    "runs=[64,24,0,14,1,16,41,13]\n",
    "balls=[44,16,4,12,3,13,19,10]\n",
    "fours=[7,3,0,2,0,2,4,0]\n",
    "sixes=[2,1,0,0,0,0,2,1]\n",
    "strike_rate=[145.45,150,0.00,116.67,33.33,123.08,215.79,130]\n",
    "    \n",
    "ind={\"Batting\":player,\"R\":runs,\"B\":balls,\"4s\":fours,\"6s\":sixes,\"S/R\":strike_rate}\n",
    "ind=pd.DataFrame(ind)\n",
    "print(ind)\n",
    "    \n",
    "print(\"\")\n",
    "ytb=['Ravi Bishnoi','Bhuvneshwar Kumar','Arshdeep Singh' ]\n",
    "print(\"\\nYet to bat:\")\n",
    "for i in ytb:\n",
    "    print(i)\n",
    "        \n",
    "#====================Bowling===================\n",
    "print(\"\\n***WI Bowlig***\\n\")\n",
    "player=['Obed McCoy','Jason Holder','Akeal Hosein','Alzarri Joseph','Odean Smith','Keemo Paul']\n",
    "overs=[4.0,4.0,4.0,4.0,2.0,2.0]\n",
    "M=[0,0,0,0,0,0]\n",
    "Runs=[30,50,14,46,18,24]\n",
    "wickets=[1,1,1,2,0,1]\n",
    "econ=[7.50,12.50,3.50,11.50,9.00,12.00]\n",
    "    \n",
    "wi_bowl={\"Bowling\":player,\"O\":overs,\"M\":M,\"R\":Runs,\"W\":wickets,\"Econ\":econ}\n",
    "wi_bowl=pd.DataFrame(wi_bowl)\n",
    "print(wi_bowl)\n",
    "print(\"\")\n",
    "    \n",
    "Buys=8\n",
    "fours=sum(fours)\n",
    "sixes=sum(sixes)\n",
    "    \n",
    "print(\"\\nIndia Total Fours:\",fours)\n",
    "print(\"\\nIndia Total Sixes:\",sixes)\n",
    "print(\"\\nExtras:\",sum(Runs)-sum(runs)+Buys)\n",
    "Ind=sum(Runs)+Buys\n",
    "print(\"\\nTotal runs:\",Ind)\n",
    "    "
   ]
  },
  {
   "cell_type": "markdown",
   "id": "296c7803",
   "metadata": {},
   "source": [
    "#### West Indies Bowling Dataset"
   ]
  },
  {
   "cell_type": "code",
   "execution_count": 4,
   "id": "89a80453",
   "metadata": {},
   "outputs": [],
   "source": [
    "wi_bowl=pd.read_csv(\"West_Indies_Bowling_1st_t20.csv\")"
   ]
  },
  {
   "cell_type": "code",
   "execution_count": 5,
   "id": "b3da11d5",
   "metadata": {},
   "outputs": [
    {
     "data": {
      "text/html": [
       "<div>\n",
       "<style scoped>\n",
       "    .dataframe tbody tr th:only-of-type {\n",
       "        vertical-align: middle;\n",
       "    }\n",
       "\n",
       "    .dataframe tbody tr th {\n",
       "        vertical-align: top;\n",
       "    }\n",
       "\n",
       "    .dataframe thead th {\n",
       "        text-align: right;\n",
       "    }\n",
       "</style>\n",
       "<table border=\"1\" class=\"dataframe\">\n",
       "  <thead>\n",
       "    <tr style=\"text-align: right;\">\n",
       "      <th></th>\n",
       "      <th>Timestamp</th>\n",
       "      <th>Over</th>\n",
       "      <th>Bowler</th>\n",
       "      <th>Runs</th>\n",
       "      <th>Wickets</th>\n",
       "      <th>Batsman</th>\n",
       "      <th>Score</th>\n",
       "    </tr>\n",
       "  </thead>\n",
       "  <tbody>\n",
       "    <tr>\n",
       "      <th>0</th>\n",
       "      <td>29/07/2022 20:08:01</td>\n",
       "      <td>1</td>\n",
       "      <td>Obed McCoy</td>\n",
       "      <td>5</td>\n",
       "      <td>0</td>\n",
       "      <td>NaN</td>\n",
       "      <td>5</td>\n",
       "    </tr>\n",
       "    <tr>\n",
       "      <th>1</th>\n",
       "      <td>29/07/2022 20:12:49</td>\n",
       "      <td>2</td>\n",
       "      <td>Jason Holder</td>\n",
       "      <td>15</td>\n",
       "      <td>0</td>\n",
       "      <td>NaN</td>\n",
       "      <td>20</td>\n",
       "    </tr>\n",
       "    <tr>\n",
       "      <th>2</th>\n",
       "      <td>29/07/2022 20:18:46</td>\n",
       "      <td>3</td>\n",
       "      <td>Akeal Hosein</td>\n",
       "      <td>5</td>\n",
       "      <td>0</td>\n",
       "      <td>NaN</td>\n",
       "      <td>25</td>\n",
       "    </tr>\n",
       "    <tr>\n",
       "      <th>3</th>\n",
       "      <td>29/07/2022 20:23:08</td>\n",
       "      <td>4</td>\n",
       "      <td>Alzarri Joseph</td>\n",
       "      <td>18</td>\n",
       "      <td>0</td>\n",
       "      <td>NaN</td>\n",
       "      <td>43</td>\n",
       "    </tr>\n",
       "    <tr>\n",
       "      <th>4</th>\n",
       "      <td>29/07/2022 20:31:25</td>\n",
       "      <td>5</td>\n",
       "      <td>Akeal Hosein</td>\n",
       "      <td>1</td>\n",
       "      <td>1</td>\n",
       "      <td>Suryakumar Yadav</td>\n",
       "      <td>44</td>\n",
       "    </tr>\n",
       "  </tbody>\n",
       "</table>\n",
       "</div>"
      ],
      "text/plain": [
       "             Timestamp  Over          Bowler  Runs  Wickets           Batsman  \\\n",
       "0  29/07/2022 20:08:01     1      Obed McCoy     5        0               NaN   \n",
       "1  29/07/2022 20:12:49     2    Jason Holder    15        0               NaN   \n",
       "2  29/07/2022 20:18:46     3    Akeal Hosein     5        0               NaN   \n",
       "3  29/07/2022 20:23:08     4  Alzarri Joseph    18        0               NaN   \n",
       "4  29/07/2022 20:31:25     5    Akeal Hosein     1        1  Suryakumar Yadav   \n",
       "\n",
       "   Score  \n",
       "0      5  \n",
       "1     20  \n",
       "2     25  \n",
       "3     43  \n",
       "4     44  "
      ]
     },
     "execution_count": 5,
     "metadata": {},
     "output_type": "execute_result"
    }
   ],
   "source": [
    "wi_bowl.head()"
   ]
  },
  {
   "cell_type": "code",
   "execution_count": 6,
   "id": "3a539084",
   "metadata": {},
   "outputs": [
    {
     "data": {
      "text/html": [
       "<div>\n",
       "<style scoped>\n",
       "    .dataframe tbody tr th:only-of-type {\n",
       "        vertical-align: middle;\n",
       "    }\n",
       "\n",
       "    .dataframe tbody tr th {\n",
       "        vertical-align: top;\n",
       "    }\n",
       "\n",
       "    .dataframe thead th {\n",
       "        text-align: right;\n",
       "    }\n",
       "</style>\n",
       "<table border=\"1\" class=\"dataframe\">\n",
       "  <thead>\n",
       "    <tr style=\"text-align: right;\">\n",
       "      <th></th>\n",
       "      <th>Over</th>\n",
       "      <th>Bowler</th>\n",
       "      <th>Runs</th>\n",
       "      <th>Wickets</th>\n",
       "      <th>Batsman</th>\n",
       "      <th>Score</th>\n",
       "    </tr>\n",
       "  </thead>\n",
       "  <tbody>\n",
       "    <tr>\n",
       "      <th>0</th>\n",
       "      <td>1</td>\n",
       "      <td>Obed McCoy</td>\n",
       "      <td>5</td>\n",
       "      <td>0</td>\n",
       "      <td>NaN</td>\n",
       "      <td>5</td>\n",
       "    </tr>\n",
       "    <tr>\n",
       "      <th>1</th>\n",
       "      <td>2</td>\n",
       "      <td>Jason Holder</td>\n",
       "      <td>15</td>\n",
       "      <td>0</td>\n",
       "      <td>NaN</td>\n",
       "      <td>20</td>\n",
       "    </tr>\n",
       "    <tr>\n",
       "      <th>2</th>\n",
       "      <td>3</td>\n",
       "      <td>Akeal Hosein</td>\n",
       "      <td>5</td>\n",
       "      <td>0</td>\n",
       "      <td>NaN</td>\n",
       "      <td>25</td>\n",
       "    </tr>\n",
       "    <tr>\n",
       "      <th>3</th>\n",
       "      <td>4</td>\n",
       "      <td>Alzarri Joseph</td>\n",
       "      <td>18</td>\n",
       "      <td>0</td>\n",
       "      <td>NaN</td>\n",
       "      <td>43</td>\n",
       "    </tr>\n",
       "    <tr>\n",
       "      <th>4</th>\n",
       "      <td>5</td>\n",
       "      <td>Akeal Hosein</td>\n",
       "      <td>1</td>\n",
       "      <td>1</td>\n",
       "      <td>Suryakumar Yadav</td>\n",
       "      <td>44</td>\n",
       "    </tr>\n",
       "  </tbody>\n",
       "</table>\n",
       "</div>"
      ],
      "text/plain": [
       "   Over          Bowler  Runs  Wickets           Batsman  Score\n",
       "0     1      Obed McCoy     5        0               NaN      5\n",
       "1     2    Jason Holder    15        0               NaN     20\n",
       "2     3    Akeal Hosein     5        0               NaN     25\n",
       "3     4  Alzarri Joseph    18        0               NaN     43\n",
       "4     5    Akeal Hosein     1        1  Suryakumar Yadav     44"
      ]
     },
     "execution_count": 6,
     "metadata": {},
     "output_type": "execute_result"
    }
   ],
   "source": [
    "# Drop the Timestamp column\n",
    "wi_bowl=wi_bowl.drop(labels='Timestamp',axis=1)\n",
    "wi_bowl.head()"
   ]
  },
  {
   "cell_type": "code",
   "execution_count": 7,
   "id": "15d3a6cb",
   "metadata": {},
   "outputs": [
    {
     "data": {
      "text/plain": [
       "20"
      ]
     },
     "execution_count": 7,
     "metadata": {},
     "output_type": "execute_result"
    }
   ],
   "source": [
    "len(wi_bowl)"
   ]
  },
  {
   "cell_type": "code",
   "execution_count": 8,
   "id": "656fa5aa",
   "metadata": {},
   "outputs": [
    {
     "data": {
      "text/plain": [
       "(20, 6)"
      ]
     },
     "execution_count": 8,
     "metadata": {},
     "output_type": "execute_result"
    }
   ],
   "source": [
    "wi_bowl.shape"
   ]
  },
  {
   "cell_type": "code",
   "execution_count": 9,
   "id": "d2d64b73",
   "metadata": {},
   "outputs": [
    {
     "data": {
      "text/plain": [
       "Over        0\n",
       "Bowler      0\n",
       "Runs        0\n",
       "Wickets     0\n",
       "Batsman    14\n",
       "Score       0\n",
       "dtype: int64"
      ]
     },
     "execution_count": 9,
     "metadata": {},
     "output_type": "execute_result"
    }
   ],
   "source": [
    "wi_bowl.isna().sum()"
   ]
  },
  {
   "cell_type": "code",
   "execution_count": 10,
   "id": "f9374514",
   "metadata": {},
   "outputs": [],
   "source": [
    "wi_bowl=wi_bowl.fillna(0)"
   ]
  },
  {
   "cell_type": "code",
   "execution_count": 11,
   "id": "93417f3c",
   "metadata": {},
   "outputs": [
    {
     "data": {
      "text/plain": [
       "Over        int64\n",
       "Bowler     object\n",
       "Runs        int64\n",
       "Wickets     int64\n",
       "Batsman    object\n",
       "Score       int64\n",
       "dtype: object"
      ]
     },
     "execution_count": 11,
     "metadata": {},
     "output_type": "execute_result"
    }
   ],
   "source": [
    "wi_bowl.dtypes"
   ]
  },
  {
   "cell_type": "code",
   "execution_count": 12,
   "id": "683a7a04",
   "metadata": {},
   "outputs": [],
   "source": [
    "#change datatype of Wickets to int64\n",
    "#wi_bowl.astype({'Wickets':'int64'}).dtypes"
   ]
  },
  {
   "cell_type": "code",
   "execution_count": 13,
   "id": "fb95afdc",
   "metadata": {},
   "outputs": [],
   "source": [
    "#wi_bowl.Wickets = wi_bowl.Wickets.astype('int')"
   ]
  },
  {
   "cell_type": "code",
   "execution_count": 14,
   "id": "ae342959",
   "metadata": {},
   "outputs": [
    {
     "name": "stdout",
     "output_type": "stream",
     "text": [
      "<class 'pandas.core.frame.DataFrame'>\n",
      "RangeIndex: 20 entries, 0 to 19\n",
      "Data columns (total 6 columns):\n",
      " #   Column   Non-Null Count  Dtype \n",
      "---  ------   --------------  ----- \n",
      " 0   Over     20 non-null     int64 \n",
      " 1   Bowler   20 non-null     object\n",
      " 2   Runs     20 non-null     int64 \n",
      " 3   Wickets  20 non-null     int64 \n",
      " 4   Batsman  20 non-null     object\n",
      " 5   Score    20 non-null     int64 \n",
      "dtypes: int64(4), object(2)\n",
      "memory usage: 1.1+ KB\n"
     ]
    }
   ],
   "source": [
    "wi_bowl.info()"
   ]
  },
  {
   "cell_type": "code",
   "execution_count": 15,
   "id": "7b987223",
   "metadata": {},
   "outputs": [
    {
     "data": {
      "text/html": [
       "<div>\n",
       "<style scoped>\n",
       "    .dataframe tbody tr th:only-of-type {\n",
       "        vertical-align: middle;\n",
       "    }\n",
       "\n",
       "    .dataframe tbody tr th {\n",
       "        vertical-align: top;\n",
       "    }\n",
       "\n",
       "    .dataframe thead th {\n",
       "        text-align: right;\n",
       "    }\n",
       "</style>\n",
       "<table border=\"1\" class=\"dataframe\">\n",
       "  <thead>\n",
       "    <tr style=\"text-align: right;\">\n",
       "      <th></th>\n",
       "      <th>Over</th>\n",
       "      <th>Runs</th>\n",
       "      <th>Wickets</th>\n",
       "      <th>Score</th>\n",
       "    </tr>\n",
       "  </thead>\n",
       "  <tbody>\n",
       "    <tr>\n",
       "      <th>count</th>\n",
       "      <td>20.00000</td>\n",
       "      <td>20.000000</td>\n",
       "      <td>20.000000</td>\n",
       "      <td>20.000000</td>\n",
       "    </tr>\n",
       "    <tr>\n",
       "      <th>mean</th>\n",
       "      <td>10.50000</td>\n",
       "      <td>9.500000</td>\n",
       "      <td>0.300000</td>\n",
       "      <td>91.000000</td>\n",
       "    </tr>\n",
       "    <tr>\n",
       "      <th>std</th>\n",
       "      <td>5.91608</td>\n",
       "      <td>5.548826</td>\n",
       "      <td>0.470162</td>\n",
       "      <td>54.080836</td>\n",
       "    </tr>\n",
       "    <tr>\n",
       "      <th>min</th>\n",
       "      <td>1.00000</td>\n",
       "      <td>1.000000</td>\n",
       "      <td>0.000000</td>\n",
       "      <td>5.000000</td>\n",
       "    </tr>\n",
       "    <tr>\n",
       "      <th>25%</th>\n",
       "      <td>5.75000</td>\n",
       "      <td>5.000000</td>\n",
       "      <td>0.000000</td>\n",
       "      <td>44.750000</td>\n",
       "    </tr>\n",
       "    <tr>\n",
       "      <th>50%</th>\n",
       "      <td>10.50000</td>\n",
       "      <td>9.000000</td>\n",
       "      <td>0.000000</td>\n",
       "      <td>89.500000</td>\n",
       "    </tr>\n",
       "    <tr>\n",
       "      <th>75%</th>\n",
       "      <td>15.25000</td>\n",
       "      <td>13.500000</td>\n",
       "      <td>1.000000</td>\n",
       "      <td>132.750000</td>\n",
       "    </tr>\n",
       "    <tr>\n",
       "      <th>max</th>\n",
       "      <td>20.00000</td>\n",
       "      <td>21.000000</td>\n",
       "      <td>1.000000</td>\n",
       "      <td>190.000000</td>\n",
       "    </tr>\n",
       "  </tbody>\n",
       "</table>\n",
       "</div>"
      ],
      "text/plain": [
       "           Over       Runs    Wickets       Score\n",
       "count  20.00000  20.000000  20.000000   20.000000\n",
       "mean   10.50000   9.500000   0.300000   91.000000\n",
       "std     5.91608   5.548826   0.470162   54.080836\n",
       "min     1.00000   1.000000   0.000000    5.000000\n",
       "25%     5.75000   5.000000   0.000000   44.750000\n",
       "50%    10.50000   9.000000   0.000000   89.500000\n",
       "75%    15.25000  13.500000   1.000000  132.750000\n",
       "max    20.00000  21.000000   1.000000  190.000000"
      ]
     },
     "execution_count": 15,
     "metadata": {},
     "output_type": "execute_result"
    }
   ],
   "source": [
    "wi_bowl.describe()"
   ]
  },
  {
   "cell_type": "code",
   "execution_count": 16,
   "id": "120fff88",
   "metadata": {},
   "outputs": [
    {
     "data": {
      "text/plain": [
       "array(['Obed McCoy', 'Jason Holder', 'Akeal Hosein', 'Alzarri Joseph',\n",
       "       'Odean Smith', 'Keemo Paul'], dtype=object)"
      ]
     },
     "execution_count": 16,
     "metadata": {},
     "output_type": "execute_result"
    }
   ],
   "source": [
    "wi_bowl['Bowler'].unique()"
   ]
  },
  {
   "cell_type": "code",
   "execution_count": 17,
   "id": "3432cdc9",
   "metadata": {},
   "outputs": [
    {
     "data": {
      "text/plain": [
       "6"
      ]
     },
     "execution_count": 17,
     "metadata": {},
     "output_type": "execute_result"
    }
   ],
   "source": [
    "wi_bowl['Bowler'].nunique()"
   ]
  },
  {
   "cell_type": "code",
   "execution_count": 18,
   "id": "aef0c907",
   "metadata": {},
   "outputs": [
    {
     "data": {
      "text/plain": [
       "Obed McCoy        4\n",
       "Jason Holder      4\n",
       "Akeal Hosein      4\n",
       "Alzarri Joseph    4\n",
       "Odean Smith       2\n",
       "Keemo Paul        2\n",
       "Name: Bowler, dtype: int64"
      ]
     },
     "execution_count": 18,
     "metadata": {},
     "output_type": "execute_result"
    }
   ],
   "source": [
    "# over counts how many overs each bowler bowled\n",
    "wi_bowl.Bowler.value_counts()"
   ]
  },
  {
   "cell_type": "code",
   "execution_count": 19,
   "id": "f1c804c4",
   "metadata": {},
   "outputs": [
    {
     "data": {
      "text/plain": [
       "5     3\n",
       "15    3\n",
       "7     3\n",
       "1     2\n",
       "11    2\n",
       "9     2\n",
       "18    1\n",
       "12    1\n",
       "3     1\n",
       "13    1\n",
       "21    1\n",
       "Name: Runs, dtype: int64"
      ]
     },
     "execution_count": 19,
     "metadata": {},
     "output_type": "execute_result"
    }
   ],
   "source": [
    "wi_bowl.Runs.value_counts()"
   ]
  },
  {
   "cell_type": "code",
   "execution_count": 20,
   "id": "a87591ab",
   "metadata": {},
   "outputs": [
    {
     "data": {
      "text/plain": [
       "5     3\n",
       "15    3\n",
       "7     3\n",
       "1     2\n",
       "11    2\n",
       "9     2\n",
       "18    1\n",
       "12    1\n",
       "3     1\n",
       "13    1\n",
       "21    1\n",
       "Name: Runs, dtype: int64"
      ]
     },
     "execution_count": 20,
     "metadata": {},
     "output_type": "execute_result"
    }
   ],
   "source": [
    "wi_bowl['Runs'].value_counts()"
   ]
  },
  {
   "cell_type": "code",
   "execution_count": 21,
   "id": "2c4e976e",
   "metadata": {},
   "outputs": [
    {
     "data": {
      "text/plain": [
       "190"
      ]
     },
     "execution_count": 21,
     "metadata": {},
     "output_type": "execute_result"
    }
   ],
   "source": [
    "wi_bowl.Runs.sum()"
   ]
  },
  {
   "cell_type": "markdown",
   "id": "939cb1a4",
   "metadata": {},
   "source": [
    "#### India Batting Performance"
   ]
  },
  {
   "cell_type": "code",
   "execution_count": 22,
   "id": "e8b911e3",
   "metadata": {},
   "outputs": [],
   "source": [
    "wi_bowl=pd.read_csv(\"West_Indies_Bowling_1st_t20.csv\")"
   ]
  },
  {
   "cell_type": "code",
   "execution_count": 23,
   "id": "014fe92c",
   "metadata": {},
   "outputs": [
    {
     "name": "stdout",
     "output_type": "stream",
     "text": [
      "<class 'pandas.core.frame.DataFrame'>\n",
      "RangeIndex: 20 entries, 0 to 19\n",
      "Data columns (total 7 columns):\n",
      " #   Column     Non-Null Count  Dtype \n",
      "---  ------     --------------  ----- \n",
      " 0   Timestamp  20 non-null     object\n",
      " 1   Over       20 non-null     int64 \n",
      " 2   Bowler     20 non-null     object\n",
      " 3   Runs       20 non-null     int64 \n",
      " 4   Wickets    20 non-null     int64 \n",
      " 5   Batsman    6 non-null      object\n",
      " 6   Score      20 non-null     int64 \n",
      "dtypes: int64(4), object(3)\n",
      "memory usage: 1.2+ KB\n"
     ]
    }
   ],
   "source": [
    "wi_bowl.info()"
   ]
  },
  {
   "cell_type": "code",
   "execution_count": 24,
   "id": "a9be0785",
   "metadata": {},
   "outputs": [
    {
     "data": {
      "text/plain": [
       "Timestamp    object\n",
       "Over         object\n",
       "Bowler       object\n",
       "Runs          int64\n",
       "Wickets       int64\n",
       "Batsman      object\n",
       "Score         int64\n",
       "dtype: object"
      ]
     },
     "execution_count": 24,
     "metadata": {},
     "output_type": "execute_result"
    }
   ],
   "source": [
    "wi_bowl.astype({'Over':'object'}).dtypes"
   ]
  },
  {
   "cell_type": "code",
   "execution_count": 25,
   "id": "fb395479",
   "metadata": {},
   "outputs": [
    {
     "data": {
      "image/png": "[encoded data removed]",
      "text/plain": [
       "<Figure size 1296x720 with 1 Axes>"
      ]
     },
     "metadata": {
      "needs_background": "light"
     },
     "output_type": "display_data"
    }
   ],
   "source": [
    "# Import Libraries\n",
    "import matplotlib.pyplot as plt\n",
    "\n",
    "# Create figure\n",
    "fig = plt.figure()\n",
    "\n",
    "# Figure size\n",
    "fig.set_size_inches(18,10)\n",
    "\n",
    "x=wi_bowl[\"Over\"]\n",
    "y=wi_bowl[\"Runs\"]\n",
    "plt.bar(x,y,color='royalblue',width=0.72,label=\"India\")\n",
    "plt.xlabel(\"Overs\")\n",
    "plt.ylabel(\"Runs\")\n",
    "plt.title('Runs of individual overs')\n",
    "plt.legend()\n",
    "plt.show()"
   ]
  },
  {
   "cell_type": "code",
   "execution_count": 26,
   "id": "bc4d75e4",
   "metadata": {},
   "outputs": [
    {
     "data": {
      "image/png": "[encoded data removed]",
      "text/plain": [
       "<Figure size 864x576 with 1 Axes>"
      ]
     },
     "metadata": {
      "needs_background": "light"
     },
     "output_type": "display_data"
    }
   ],
   "source": [
    "# Import Libraries\n",
    "import matplotlib.pyplot as plt\n",
    "\n",
    "# Create figure\n",
    "fig = plt.figure()\n",
    "\n",
    "# Figure size\n",
    "fig.set_size_inches(12,8)\n",
    "\n",
    "x=wi_bowl[\"Over\"]\n",
    "y=wi_bowl[\"Score\"]\n",
    "plt.plot(x,y,color='royalblue',linestyle='dashed',label=\"India\")#marker='o'\n",
    "plt.xlabel(\"Overs\")\n",
    "plt.ylabel(\"Runs\")\n",
    "plt.title('Scorecard',fontsize=20)\n",
    "plt.grid()\n",
    "plt.legend()\n",
    "plt.show()"
   ]
  },
  {
   "cell_type": "markdown",
   "id": "d89d09fd",
   "metadata": {},
   "source": [
    "#### Total runs"
   ]
  },
  {
   "cell_type": "code",
   "execution_count": 27,
   "id": "d7f71e9d",
   "metadata": {},
   "outputs": [
    {
     "data": {
      "text/plain": [
       "190"
      ]
     },
     "execution_count": 27,
     "metadata": {},
     "output_type": "execute_result"
    }
   ],
   "source": [
    "sum(wi_bowl['Runs'])"
   ]
  },
  {
   "cell_type": "code",
   "execution_count": 28,
   "id": "791ea42f",
   "metadata": {},
   "outputs": [
    {
     "data": {
      "text/plain": [
       "5     3\n",
       "15    3\n",
       "7     3\n",
       "1     2\n",
       "11    2\n",
       "9     2\n",
       "18    1\n",
       "12    1\n",
       "3     1\n",
       "13    1\n",
       "21    1\n",
       "Name: Runs, dtype: int64"
      ]
     },
     "execution_count": 28,
     "metadata": {},
     "output_type": "execute_result"
    }
   ],
   "source": [
    "wi_bowl.Runs.value_counts()"
   ]
  },
  {
   "cell_type": "code",
   "execution_count": 29,
   "id": "94cfd4ff",
   "metadata": {},
   "outputs": [
    {
     "data": {
      "text/plain": [
       "<AxesSubplot:xlabel='Runs', ylabel='Frequency'>"
      ]
     },
     "execution_count": 29,
     "metadata": {},
     "output_type": "execute_result"
    },
    {
     "data": {
      "image/png": "[encoded data removed]",
      "text/plain": [
       "<Figure size 864x576 with 1 Axes>"
      ]
     },
     "metadata": {
      "needs_background": "light"
     },
     "output_type": "display_data"
    }
   ],
   "source": [
    "# Import Libraries\n",
    "import matplotlib.pyplot as plt\n",
    "\n",
    "# Create figure\n",
    "fig = plt.figure()\n",
    "\n",
    "# Figure size\n",
    "fig.set_size_inches(12,8)\n",
    "plt.xlabel(\"Runs\")\n",
    "wi_bowl.Runs.plot(kind=\"hist\",color='royalblue')"
   ]
  },
  {
   "cell_type": "markdown",
   "id": "e003bfc9",
   "metadata": {},
   "source": [
    "#### West Indies Bowling Performance"
   ]
  },
  {
   "cell_type": "code",
   "execution_count": 30,
   "id": "88d3a3a2",
   "metadata": {},
   "outputs": [
    {
     "data": {
      "text/plain": [
       "array(['Obed McCoy', 'Jason Holder', 'Akeal Hosein', 'Alzarri Joseph',\n",
       "       'Odean Smith', 'Keemo Paul'], dtype=object)"
      ]
     },
     "execution_count": 30,
     "metadata": {},
     "output_type": "execute_result"
    }
   ],
   "source": [
    "wi_bowl.Bowler.unique()"
   ]
  },
  {
   "cell_type": "code",
   "execution_count": 31,
   "id": "0a5c4a39",
   "metadata": {},
   "outputs": [
    {
     "data": {
      "text/plain": [
       "6"
      ]
     },
     "execution_count": 31,
     "metadata": {},
     "output_type": "execute_result"
    }
   ],
   "source": [
    "wi_bowl.Bowler.nunique()"
   ]
  },
  {
   "cell_type": "code",
   "execution_count": 32,
   "id": "e6e3620e",
   "metadata": {},
   "outputs": [
    {
     "data": {
      "text/plain": [
       "Obed McCoy        4\n",
       "Jason Holder      4\n",
       "Akeal Hosein      4\n",
       "Alzarri Joseph    4\n",
       "Odean Smith       2\n",
       "Keemo Paul        2\n",
       "Name: Bowler, dtype: int64"
      ]
     },
     "execution_count": 32,
     "metadata": {},
     "output_type": "execute_result"
    }
   ],
   "source": [
    "# over counts how many overs each bowler bowled\n",
    "wi_bowl.Bowler.value_counts()"
   ]
  },
  {
   "cell_type": "code",
   "execution_count": 33,
   "id": "d6c36c56",
   "metadata": {},
   "outputs": [
    {
     "data": {
      "text/html": [
       "<div>\n",
       "<style scoped>\n",
       "    .dataframe tbody tr th:only-of-type {\n",
       "        vertical-align: middle;\n",
       "    }\n",
       "\n",
       "    .dataframe tbody tr th {\n",
       "        vertical-align: top;\n",
       "    }\n",
       "\n",
       "    .dataframe thead th {\n",
       "        text-align: right;\n",
       "    }\n",
       "</style>\n",
       "<table border=\"1\" class=\"dataframe\">\n",
       "  <thead>\n",
       "    <tr style=\"text-align: right;\">\n",
       "      <th></th>\n",
       "      <th>Runs</th>\n",
       "      <th>Wickets</th>\n",
       "    </tr>\n",
       "    <tr>\n",
       "      <th>Bowler</th>\n",
       "      <th></th>\n",
       "      <th></th>\n",
       "    </tr>\n",
       "  </thead>\n",
       "  <tbody>\n",
       "    <tr>\n",
       "      <th>Akeal Hosein</th>\n",
       "      <td>14</td>\n",
       "      <td>1</td>\n",
       "    </tr>\n",
       "    <tr>\n",
       "      <th>Alzarri Joseph</th>\n",
       "      <td>50</td>\n",
       "      <td>2</td>\n",
       "    </tr>\n",
       "    <tr>\n",
       "      <th>Jason Holder</th>\n",
       "      <td>50</td>\n",
       "      <td>1</td>\n",
       "    </tr>\n",
       "    <tr>\n",
       "      <th>Keemo Paul</th>\n",
       "      <td>24</td>\n",
       "      <td>1</td>\n",
       "    </tr>\n",
       "    <tr>\n",
       "      <th>Obed McCoy</th>\n",
       "      <td>30</td>\n",
       "      <td>1</td>\n",
       "    </tr>\n",
       "    <tr>\n",
       "      <th>Odean Smith</th>\n",
       "      <td>22</td>\n",
       "      <td>0</td>\n",
       "    </tr>\n",
       "  </tbody>\n",
       "</table>\n",
       "</div>"
      ],
      "text/plain": [
       "                Runs  Wickets\n",
       "Bowler                       \n",
       "Akeal Hosein      14        1\n",
       "Alzarri Joseph    50        2\n",
       "Jason Holder      50        1\n",
       "Keemo Paul        24        1\n",
       "Obed McCoy        30        1\n",
       "Odean Smith       22        0"
      ]
     },
     "execution_count": 33,
     "metadata": {},
     "output_type": "execute_result"
    }
   ],
   "source": [
    "wi_bowl=pd.DataFrame(wi_bowl,columns=[\"Bowler\",\"Runs\",\"Wickets\"])\n",
    "wi_bowl.groupby(\"Bowler\").sum(\"Runs\")#.sum(\"Runs\")"
   ]
  },
  {
   "cell_type": "code",
   "execution_count": 34,
   "id": "705f7699",
   "metadata": {},
   "outputs": [
    {
     "data": {
      "text/plain": [
       "<AxesSubplot:xlabel='Bowler'>"
      ]
     },
     "execution_count": 34,
     "metadata": {},
     "output_type": "execute_result"
    },
    {
     "data": {
      "image/png": "[encoded data removed]",
      "text/plain": [
       "<Figure size 432x288 with 1 Axes>"
      ]
     },
     "metadata": {
      "needs_background": "light"
     },
     "output_type": "display_data"
    }
   ],
   "source": [
    "wi_bowl=wi_bowl.groupby(\"Bowler\")[\"Runs\"].sum()\n",
    "wi_bowl.plot(kind=\"bar\")"
   ]
  },
  {
   "cell_type": "code",
   "execution_count": 35,
   "id": "5ebfd0e1",
   "metadata": {},
   "outputs": [],
   "source": [
    "Bowler=['Akeal Hosein','Alzarri Joseph','Jason Holder','Keemo Paul','Obed McCoy','Odean Smith']\n",
    "Runs=[14,50,50,24,30,22]"
   ]
  },
  {
   "cell_type": "code",
   "execution_count": 36,
   "id": "c03e283c",
   "metadata": {},
   "outputs": [
    {
     "data": {
      "image/png": "[encoded data removed]",
      "text/plain": [
       "<Figure size 864x576 with 1 Axes>"
      ]
     },
     "metadata": {
      "needs_background": "light"
     },
     "output_type": "display_data"
    }
   ],
   "source": [
    "# Import Libraries\n",
    "import matplotlib.pyplot as plt\n",
    "\n",
    "# Create figure\n",
    "fig = plt.figure()\n",
    "\n",
    "# Figure size\n",
    "fig.set_size_inches(12,8)\n",
    "\n",
    "x=Bowler\n",
    "y=Runs\n",
    "plt.bar(x,y,color='brown',width=0.72,label=\"Runs\")\n",
    "plt.xlabel(\"Bowlers\")\n",
    "plt.ylabel(\"Runs\")\n",
    "plt.title('Runs spends by individual bowlers')\n",
    "plt.legend()\n",
    "plt.tight_layout()\n",
    "plt.show()"
   ]
  },
  {
   "cell_type": "code",
   "execution_count": 37,
   "id": "d2580f27",
   "metadata": {},
   "outputs": [],
   "source": [
    "wi_bowl=pd.read_csv(\"West_Indies_Bowling_1st_t20.csv\")"
   ]
  },
  {
   "cell_type": "code",
   "execution_count": 38,
   "id": "906c2d71",
   "metadata": {},
   "outputs": [
    {
     "data": {
      "text/plain": [
       "array([nan, 'Suryakumar Yadav', 'Shreyas Iyer', 'Rishabh Pant',\n",
       "       'Hardik Pandya', 'Rohit Sharma ', 'Ravindra Jadeja '], dtype=object)"
      ]
     },
     "execution_count": 38,
     "metadata": {},
     "output_type": "execute_result"
    }
   ],
   "source": [
    "wi_bowl.Batsman.unique()"
   ]
  },
  {
   "cell_type": "code",
   "execution_count": 39,
   "id": "a56fee7a",
   "metadata": {},
   "outputs": [
    {
     "data": {
      "text/plain": [
       "6"
      ]
     },
     "execution_count": 39,
     "metadata": {},
     "output_type": "execute_result"
    }
   ],
   "source": [
    "wi_bowl.Batsman.nunique()"
   ]
  },
  {
   "cell_type": "code",
   "execution_count": 40,
   "id": "399b906a",
   "metadata": {},
   "outputs": [
    {
     "data": {
      "text/html": [
       "<div>\n",
       "<style scoped>\n",
       "    .dataframe tbody tr th:only-of-type {\n",
       "        vertical-align: middle;\n",
       "    }\n",
       "\n",
       "    .dataframe tbody tr th {\n",
       "        vertical-align: top;\n",
       "    }\n",
       "\n",
       "    .dataframe thead th {\n",
       "        text-align: right;\n",
       "    }\n",
       "</style>\n",
       "<table border=\"1\" class=\"dataframe\">\n",
       "  <thead>\n",
       "    <tr style=\"text-align: right;\">\n",
       "      <th>Bowler</th>\n",
       "      <th>Akeal Hosein</th>\n",
       "      <th>Alzarri Joseph</th>\n",
       "      <th>Jason Holder</th>\n",
       "      <th>Keemo Paul</th>\n",
       "      <th>Obed McCoy</th>\n",
       "    </tr>\n",
       "    <tr>\n",
       "      <th>Batsman</th>\n",
       "      <th></th>\n",
       "      <th></th>\n",
       "      <th></th>\n",
       "      <th></th>\n",
       "      <th></th>\n",
       "    </tr>\n",
       "  </thead>\n",
       "  <tbody>\n",
       "    <tr>\n",
       "      <th>Hardik Pandya</th>\n",
       "      <td>0</td>\n",
       "      <td>1</td>\n",
       "      <td>0</td>\n",
       "      <td>0</td>\n",
       "      <td>0</td>\n",
       "    </tr>\n",
       "    <tr>\n",
       "      <th>Ravindra Jadeja</th>\n",
       "      <td>0</td>\n",
       "      <td>1</td>\n",
       "      <td>0</td>\n",
       "      <td>0</td>\n",
       "      <td>0</td>\n",
       "    </tr>\n",
       "    <tr>\n",
       "      <th>Rishabh Pant</th>\n",
       "      <td>0</td>\n",
       "      <td>0</td>\n",
       "      <td>0</td>\n",
       "      <td>1</td>\n",
       "      <td>0</td>\n",
       "    </tr>\n",
       "    <tr>\n",
       "      <th>Rohit Sharma</th>\n",
       "      <td>0</td>\n",
       "      <td>0</td>\n",
       "      <td>1</td>\n",
       "      <td>0</td>\n",
       "      <td>0</td>\n",
       "    </tr>\n",
       "    <tr>\n",
       "      <th>Shreyas Iyer</th>\n",
       "      <td>0</td>\n",
       "      <td>0</td>\n",
       "      <td>0</td>\n",
       "      <td>0</td>\n",
       "      <td>1</td>\n",
       "    </tr>\n",
       "    <tr>\n",
       "      <th>Suryakumar Yadav</th>\n",
       "      <td>1</td>\n",
       "      <td>0</td>\n",
       "      <td>0</td>\n",
       "      <td>0</td>\n",
       "      <td>0</td>\n",
       "    </tr>\n",
       "  </tbody>\n",
       "</table>\n",
       "</div>"
      ],
      "text/plain": [
       "Bowler            Akeal Hosein  Alzarri Joseph  Jason Holder  Keemo Paul  \\\n",
       "Batsman                                                                    \n",
       "Hardik Pandya                0               1             0           0   \n",
       "Ravindra Jadeja              0               1             0           0   \n",
       "Rishabh Pant                 0               0             0           1   \n",
       "Rohit Sharma                 0               0             1           0   \n",
       "Shreyas Iyer                 0               0             0           0   \n",
       "Suryakumar Yadav             1               0             0           0   \n",
       "\n",
       "Bowler            Obed McCoy  \n",
       "Batsman                       \n",
       "Hardik Pandya              0  \n",
       "Ravindra Jadeja            0  \n",
       "Rishabh Pant               0  \n",
       "Rohit Sharma               0  \n",
       "Shreyas Iyer               1  \n",
       "Suryakumar Yadav           0  "
      ]
     },
     "execution_count": 40,
     "metadata": {},
     "output_type": "execute_result"
    }
   ],
   "source": [
    "#which Bowler out which Batsman\n",
    "pd.crosstab(wi_bowl.Batsman,wi_bowl.Bowler)"
   ]
  },
  {
   "cell_type": "code",
   "execution_count": 41,
   "id": "12cf4ae4",
   "metadata": {},
   "outputs": [
    {
     "data": {
      "text/html": [
       "<div>\n",
       "<style scoped>\n",
       "    .dataframe tbody tr th:only-of-type {\n",
       "        vertical-align: middle;\n",
       "    }\n",
       "\n",
       "    .dataframe tbody tr th {\n",
       "        vertical-align: top;\n",
       "    }\n",
       "\n",
       "    .dataframe thead th {\n",
       "        text-align: right;\n",
       "    }\n",
       "</style>\n",
       "<table border=\"1\" class=\"dataframe\">\n",
       "  <thead>\n",
       "    <tr style=\"text-align: right;\">\n",
       "      <th>Bowler</th>\n",
       "      <th>Akeal Hosein</th>\n",
       "      <th>Alzarri Joseph</th>\n",
       "      <th>Jason Holder</th>\n",
       "      <th>Keemo Paul</th>\n",
       "      <th>Obed McCoy</th>\n",
       "      <th>Odean Smith</th>\n",
       "    </tr>\n",
       "    <tr>\n",
       "      <th>Over</th>\n",
       "      <th></th>\n",
       "      <th></th>\n",
       "      <th></th>\n",
       "      <th></th>\n",
       "      <th></th>\n",
       "      <th></th>\n",
       "    </tr>\n",
       "  </thead>\n",
       "  <tbody>\n",
       "    <tr>\n",
       "      <th>1</th>\n",
       "      <td>0</td>\n",
       "      <td>0</td>\n",
       "      <td>0</td>\n",
       "      <td>0</td>\n",
       "      <td>1</td>\n",
       "      <td>0</td>\n",
       "    </tr>\n",
       "    <tr>\n",
       "      <th>2</th>\n",
       "      <td>0</td>\n",
       "      <td>0</td>\n",
       "      <td>1</td>\n",
       "      <td>0</td>\n",
       "      <td>0</td>\n",
       "      <td>0</td>\n",
       "    </tr>\n",
       "    <tr>\n",
       "      <th>3</th>\n",
       "      <td>1</td>\n",
       "      <td>0</td>\n",
       "      <td>0</td>\n",
       "      <td>0</td>\n",
       "      <td>0</td>\n",
       "      <td>0</td>\n",
       "    </tr>\n",
       "    <tr>\n",
       "      <th>4</th>\n",
       "      <td>0</td>\n",
       "      <td>1</td>\n",
       "      <td>0</td>\n",
       "      <td>0</td>\n",
       "      <td>0</td>\n",
       "      <td>0</td>\n",
       "    </tr>\n",
       "    <tr>\n",
       "      <th>5</th>\n",
       "      <td>1</td>\n",
       "      <td>0</td>\n",
       "      <td>0</td>\n",
       "      <td>0</td>\n",
       "      <td>0</td>\n",
       "      <td>0</td>\n",
       "    </tr>\n",
       "    <tr>\n",
       "      <th>6</th>\n",
       "      <td>0</td>\n",
       "      <td>0</td>\n",
       "      <td>0</td>\n",
       "      <td>0</td>\n",
       "      <td>1</td>\n",
       "      <td>0</td>\n",
       "    </tr>\n",
       "    <tr>\n",
       "      <th>7</th>\n",
       "      <td>1</td>\n",
       "      <td>0</td>\n",
       "      <td>0</td>\n",
       "      <td>0</td>\n",
       "      <td>0</td>\n",
       "      <td>0</td>\n",
       "    </tr>\n",
       "    <tr>\n",
       "      <th>8</th>\n",
       "      <td>0</td>\n",
       "      <td>1</td>\n",
       "      <td>0</td>\n",
       "      <td>0</td>\n",
       "      <td>0</td>\n",
       "      <td>0</td>\n",
       "    </tr>\n",
       "    <tr>\n",
       "      <th>9</th>\n",
       "      <td>0</td>\n",
       "      <td>0</td>\n",
       "      <td>0</td>\n",
       "      <td>0</td>\n",
       "      <td>0</td>\n",
       "      <td>1</td>\n",
       "    </tr>\n",
       "    <tr>\n",
       "      <th>10</th>\n",
       "      <td>0</td>\n",
       "      <td>0</td>\n",
       "      <td>0</td>\n",
       "      <td>1</td>\n",
       "      <td>0</td>\n",
       "      <td>0</td>\n",
       "    </tr>\n",
       "    <tr>\n",
       "      <th>11</th>\n",
       "      <td>1</td>\n",
       "      <td>0</td>\n",
       "      <td>0</td>\n",
       "      <td>0</td>\n",
       "      <td>0</td>\n",
       "      <td>0</td>\n",
       "    </tr>\n",
       "    <tr>\n",
       "      <th>12</th>\n",
       "      <td>0</td>\n",
       "      <td>1</td>\n",
       "      <td>0</td>\n",
       "      <td>0</td>\n",
       "      <td>0</td>\n",
       "      <td>0</td>\n",
       "    </tr>\n",
       "    <tr>\n",
       "      <th>13</th>\n",
       "      <td>0</td>\n",
       "      <td>0</td>\n",
       "      <td>0</td>\n",
       "      <td>1</td>\n",
       "      <td>0</td>\n",
       "      <td>0</td>\n",
       "    </tr>\n",
       "    <tr>\n",
       "      <th>14</th>\n",
       "      <td>0</td>\n",
       "      <td>0</td>\n",
       "      <td>0</td>\n",
       "      <td>0</td>\n",
       "      <td>0</td>\n",
       "      <td>1</td>\n",
       "    </tr>\n",
       "    <tr>\n",
       "      <th>15</th>\n",
       "      <td>0</td>\n",
       "      <td>0</td>\n",
       "      <td>1</td>\n",
       "      <td>0</td>\n",
       "      <td>0</td>\n",
       "      <td>0</td>\n",
       "    </tr>\n",
       "    <tr>\n",
       "      <th>16</th>\n",
       "      <td>0</td>\n",
       "      <td>1</td>\n",
       "      <td>0</td>\n",
       "      <td>0</td>\n",
       "      <td>0</td>\n",
       "      <td>0</td>\n",
       "    </tr>\n",
       "    <tr>\n",
       "      <th>17</th>\n",
       "      <td>0</td>\n",
       "      <td>0</td>\n",
       "      <td>1</td>\n",
       "      <td>0</td>\n",
       "      <td>0</td>\n",
       "      <td>0</td>\n",
       "    </tr>\n",
       "    <tr>\n",
       "      <th>18</th>\n",
       "      <td>0</td>\n",
       "      <td>0</td>\n",
       "      <td>0</td>\n",
       "      <td>0</td>\n",
       "      <td>1</td>\n",
       "      <td>0</td>\n",
       "    </tr>\n",
       "    <tr>\n",
       "      <th>19</th>\n",
       "      <td>0</td>\n",
       "      <td>0</td>\n",
       "      <td>1</td>\n",
       "      <td>0</td>\n",
       "      <td>0</td>\n",
       "      <td>0</td>\n",
       "    </tr>\n",
       "    <tr>\n",
       "      <th>20</th>\n",
       "      <td>0</td>\n",
       "      <td>0</td>\n",
       "      <td>0</td>\n",
       "      <td>0</td>\n",
       "      <td>1</td>\n",
       "      <td>0</td>\n",
       "    </tr>\n",
       "  </tbody>\n",
       "</table>\n",
       "</div>"
      ],
      "text/plain": [
       "Bowler  Akeal Hosein  Alzarri Joseph  Jason Holder  Keemo Paul  Obed McCoy  \\\n",
       "Over                                                                         \n",
       "1                  0               0             0           0           1   \n",
       "2                  0               0             1           0           0   \n",
       "3                  1               0             0           0           0   \n",
       "4                  0               1             0           0           0   \n",
       "5                  1               0             0           0           0   \n",
       "6                  0               0             0           0           1   \n",
       "7                  1               0             0           0           0   \n",
       "8                  0               1             0           0           0   \n",
       "9                  0               0             0           0           0   \n",
       "10                 0               0             0           1           0   \n",
       "11                 1               0             0           0           0   \n",
       "12                 0               1             0           0           0   \n",
       "13                 0               0             0           1           0   \n",
       "14                 0               0             0           0           0   \n",
       "15                 0               0             1           0           0   \n",
       "16                 0               1             0           0           0   \n",
       "17                 0               0             1           0           0   \n",
       "18                 0               0             0           0           1   \n",
       "19                 0               0             1           0           0   \n",
       "20                 0               0             0           0           1   \n",
       "\n",
       "Bowler  Odean Smith  \n",
       "Over                 \n",
       "1                 0  \n",
       "2                 0  \n",
       "3                 0  \n",
       "4                 0  \n",
       "5                 0  \n",
       "6                 0  \n",
       "7                 0  \n",
       "8                 0  \n",
       "9                 1  \n",
       "10                0  \n",
       "11                0  \n",
       "12                0  \n",
       "13                0  \n",
       "14                1  \n",
       "15                0  \n",
       "16                0  \n",
       "17                0  \n",
       "18                0  \n",
       "19                0  \n",
       "20                0  "
      ]
     },
     "execution_count": 41,
     "metadata": {},
     "output_type": "execute_result"
    }
   ],
   "source": [
    "#which Bowler Bowled which Batsman\n",
    "pd.crosstab(wi_bowl.Over,wi_bowl.Bowler)"
   ]
  },
  {
   "cell_type": "markdown",
   "id": "f6c6c270",
   "metadata": {},
   "source": [
    "#### Fall of wickets"
   ]
  },
  {
   "cell_type": "code",
   "execution_count": 42,
   "id": "caff7ddc",
   "metadata": {},
   "outputs": [
    {
     "data": {
      "text/html": [
       "<div>\n",
       "<style scoped>\n",
       "    .dataframe tbody tr th:only-of-type {\n",
       "        vertical-align: middle;\n",
       "    }\n",
       "\n",
       "    .dataframe tbody tr th {\n",
       "        vertical-align: top;\n",
       "    }\n",
       "\n",
       "    .dataframe thead th {\n",
       "        text-align: right;\n",
       "    }\n",
       "</style>\n",
       "<table border=\"1\" class=\"dataframe\">\n",
       "  <thead>\n",
       "    <tr style=\"text-align: right;\">\n",
       "      <th>Batsman</th>\n",
       "      <th>Hardik Pandya</th>\n",
       "      <th>Ravindra Jadeja</th>\n",
       "      <th>Rishabh Pant</th>\n",
       "      <th>Rohit Sharma</th>\n",
       "      <th>Shreyas Iyer</th>\n",
       "      <th>Suryakumar Yadav</th>\n",
       "    </tr>\n",
       "    <tr>\n",
       "      <th>Over</th>\n",
       "      <th></th>\n",
       "      <th></th>\n",
       "      <th></th>\n",
       "      <th></th>\n",
       "      <th></th>\n",
       "      <th></th>\n",
       "    </tr>\n",
       "  </thead>\n",
       "  <tbody>\n",
       "    <tr>\n",
       "      <th>5</th>\n",
       "      <td>0</td>\n",
       "      <td>0</td>\n",
       "      <td>0</td>\n",
       "      <td>0</td>\n",
       "      <td>0</td>\n",
       "      <td>1</td>\n",
       "    </tr>\n",
       "    <tr>\n",
       "      <th>6</th>\n",
       "      <td>0</td>\n",
       "      <td>0</td>\n",
       "      <td>0</td>\n",
       "      <td>0</td>\n",
       "      <td>1</td>\n",
       "      <td>0</td>\n",
       "    </tr>\n",
       "    <tr>\n",
       "      <th>10</th>\n",
       "      <td>0</td>\n",
       "      <td>0</td>\n",
       "      <td>1</td>\n",
       "      <td>0</td>\n",
       "      <td>0</td>\n",
       "      <td>0</td>\n",
       "    </tr>\n",
       "    <tr>\n",
       "      <th>12</th>\n",
       "      <td>1</td>\n",
       "      <td>0</td>\n",
       "      <td>0</td>\n",
       "      <td>0</td>\n",
       "      <td>0</td>\n",
       "      <td>0</td>\n",
       "    </tr>\n",
       "    <tr>\n",
       "      <th>15</th>\n",
       "      <td>0</td>\n",
       "      <td>0</td>\n",
       "      <td>0</td>\n",
       "      <td>1</td>\n",
       "      <td>0</td>\n",
       "      <td>0</td>\n",
       "    </tr>\n",
       "    <tr>\n",
       "      <th>16</th>\n",
       "      <td>0</td>\n",
       "      <td>1</td>\n",
       "      <td>0</td>\n",
       "      <td>0</td>\n",
       "      <td>0</td>\n",
       "      <td>0</td>\n",
       "    </tr>\n",
       "  </tbody>\n",
       "</table>\n",
       "</div>"
      ],
      "text/plain": [
       "Batsman  Hardik Pandya  Ravindra Jadeja   Rishabh Pant  Rohit Sharma   \\\n",
       "Over                                                                    \n",
       "5                    0                 0             0              0   \n",
       "6                    0                 0             0              0   \n",
       "10                   0                 0             1              0   \n",
       "12                   1                 0             0              0   \n",
       "15                   0                 0             0              1   \n",
       "16                   0                 1             0              0   \n",
       "\n",
       "Batsman  Shreyas Iyer  Suryakumar Yadav  \n",
       "Over                                     \n",
       "5                   0                 1  \n",
       "6                   1                 0  \n",
       "10                  0                 0  \n",
       "12                  0                 0  \n",
       "15                  0                 0  \n",
       "16                  0                 0  "
      ]
     },
     "execution_count": 42,
     "metadata": {},
     "output_type": "execute_result"
    }
   ],
   "source": [
    "#which player out in which over\n",
    "pd.crosstab(wi_bowl.Over,wi_bowl.Batsman)"
   ]
  },
  {
   "cell_type": "code",
   "execution_count": null,
   "id": "e05c5e85",
   "metadata": {},
   "outputs": [],
   "source": []
  },
  {
   "cell_type": "markdown",
   "id": "6409bd2f",
   "metadata": {},
   "source": [
    "## West Indies Scorecard"
   ]
  },
  {
   "cell_type": "code",
   "execution_count": 43,
   "id": "781fdf66",
   "metadata": {},
   "outputs": [
    {
     "name": "stdout",
     "output_type": "stream",
     "text": [
      "West Indies_XI:\n",
      "\n",
      "Kyle Mayers\n",
      "Shamarh Brooks\n",
      "Jason Holder\n",
      "Nicholas Pooran (c & wk)\n",
      "Rovman Powell\n",
      "Shimron Hetmyer\n",
      "Akeal Hosein\n",
      "Odean Smith\n",
      "Keemo Paul\n",
      "Alzarri Joseph\n",
      "Obed McCoy\n",
      "\n",
      "SCORECARD\n",
      "*** West Indies Batting ***\n",
      "                    Batting   R   B  4s  6s     S/R\n",
      "0               Kyle Mayers  15   6   2   1  250.00\n",
      "1            Shamarh Brooks  20  15   2   1  133.33\n",
      "2              Jason Holder   0   4   0   0    0.33\n",
      "3  Nicholas Pooran (c & wk)  18  15   1   1  120.00\n",
      "4             Rovman Powell  14  17   0   1   82.35\n",
      "5           Shimron Hetmyer  14  15   1   1   93.33\n",
      "6              Akeal Hosein  11  15   0   1   73.33\n",
      "7               Odean Smith   0   2   0   0    0.00\n",
      "8                Keemo Paul  19  22   2   0   86.36\n",
      "9            Alzarri Joseph   5  11   0   0   45.45\n",
      "\n",
      "\n",
      "Yet to bat:\n",
      "Obed McCoy\n",
      "\n",
      "***IND Bowling***\n",
      "               Bowling    O  M   R  W  Econ\n",
      "0    Bhuvneshwar Kumar  2.0  1  11  1   5.5\n",
      "1       Arshdeep Singh  4.0  0  24  2   6.0\n",
      "2     Ravindra Jadeja   4.0  0  26  1   6.5\n",
      "3  Ravichandran Ashwin  4.0  0  22  2   5.5\n",
      "4        Hardik Pandya  2.0  0  12  0   6.0\n",
      "5         Ravi Bishnoi  4.0  0  26  2   6.5\n",
      "\n",
      "\n",
      "West Indies Total Fours: 8\n",
      "\n",
      "West Indies Total Sixes: 6\n",
      "\n",
      "Extras: 6\n",
      "\n",
      "Total runs: 122\n"
     ]
    }
   ],
   "source": [
    "\n",
    "print(\"West Indies_XI:\\n\")\n",
    "    \n",
    "playing_11 = ['Kyle Mayers','Shamarh Brooks','Jason Holder','Nicholas Pooran (c & wk)','Rovman Powell',\n",
    "            'Shimron Hetmyer','Akeal Hosein','Odean Smith','Keemo Paul','Alzarri Joseph','Obed McCoy']\n",
    "    \n",
    "for i in playing_11:\n",
    "    print(i)\n",
    "        \n",
    "#====================Batting===================\n",
    "    \n",
    "print(\"\\nSCORECARD\")\n",
    "    \n",
    "print(\"*** West Indies Batting ***\")\n",
    "    \n",
    "player=['Kyle Mayers','Shamarh Brooks','Jason Holder','Nicholas Pooran (c & wk)','Rovman Powell',\n",
    "            'Shimron Hetmyer','Akeal Hosein','Odean Smith','Keemo Paul','Alzarri Joseph']\n",
    "\n",
    "    \n",
    "runs=[15,20,0,18,14,14,11,0,19,5]\n",
    "    \n",
    "balls_faced=[6,15,4,15,17,15,15,2,22,11]\n",
    "    \n",
    "fours=[2,2,0,1,0,1,0,0,2,0]\n",
    "    \n",
    "sixes=[1,1,0,1,1,1,1,0,0,0]\n",
    "    \n",
    "strike_rate=[250.00,133.33,0.33,120.00,82.35,93.33,73.33,0.00,86.36,45.45]\n",
    "    \n",
    "wi={\"Batting\":player,\"R\":runs,\"B\":balls_faced,\"4s\":fours,\"6s\":sixes,\"S/R\":strike_rate}\n",
    "wi=pd.DataFrame(wi)\n",
    "print(wi)\n",
    "print(\"\")\n",
    "    \n",
    "    \n",
    "ytb=['Obed McCoy']\n",
    "print(\"\\nYet to bat:\")\n",
    "for i in ytb:\n",
    "    print(i)\n",
    "    \n",
    "#====================Bowling===================\n",
    "print(\"\\n***IND Bowling***\")\n",
    "player=['Bhuvneshwar Kumar','Arshdeep Singh','Ravindra Jadeja ',\n",
    "            'Ravichandran Ashwin','Hardik Pandya','Ravi Bishnoi']\n",
    "overs=[2.0,4.0,4.0,4.0,2.0,4.0]\n",
    "M=[1,0,0,0,0,0]\n",
    "Runs=[11,24,26,22,12,26]\n",
    "wickets=[1,2,1,2,0,2]\n",
    "econ=[5.50,6.00,6.50,5.50,6.00,6.50]\n",
    "    \n",
    "ind_bowl={\"Bowling\":player,\"O\":overs,\"M\":M,\"R\":Runs,\"W\":wickets,\"Econ\":econ}\n",
    "ind_bowl=pd.DataFrame(ind_bowl)\n",
    "print(ind_bowl)\n",
    "print(\"\")\n",
    "    \n",
    "#=================TOTAL====================\n",
    "Buys=1\n",
    "fours=sum(fours)\n",
    "sixes=sum(sixes)\n",
    "print(\"\\nWest Indies Total Fours:\",fours)\n",
    "print(\"\\nWest Indies Total Sixes:\",sixes)\n",
    "print(\"\\nExtras:\",sum(Runs)-sum(runs)+Buys)\n",
    "WI=sum(Runs)+Buys\n",
    "print(\"\\nTotal runs:\",WI)\n"
   ]
  },
  {
   "cell_type": "markdown",
   "id": "5721dccd",
   "metadata": {},
   "source": [
    "### India Bowling Dataset"
   ]
  },
  {
   "cell_type": "code",
   "execution_count": 44,
   "id": "7196f26a",
   "metadata": {},
   "outputs": [],
   "source": [
    "ind_bowl=pd.read_csv(\"India_Bowling_1st_t20.csv\")"
   ]
  },
  {
   "cell_type": "code",
   "execution_count": 45,
   "id": "4b54d0fd",
   "metadata": {},
   "outputs": [
    {
     "data": {
      "text/plain": [
       "20"
      ]
     },
     "execution_count": 45,
     "metadata": {},
     "output_type": "execute_result"
    }
   ],
   "source": [
    "len(ind_bowl)"
   ]
  },
  {
   "cell_type": "code",
   "execution_count": 46,
   "id": "44714c1b",
   "metadata": {},
   "outputs": [
    {
     "data": {
      "text/html": [
       "<div>\n",
       "<style scoped>\n",
       "    .dataframe tbody tr th:only-of-type {\n",
       "        vertical-align: middle;\n",
       "    }\n",
       "\n",
       "    .dataframe tbody tr th {\n",
       "        vertical-align: top;\n",
       "    }\n",
       "\n",
       "    .dataframe thead th {\n",
       "        text-align: right;\n",
       "    }\n",
       "</style>\n",
       "<table border=\"1\" class=\"dataframe\">\n",
       "  <thead>\n",
       "    <tr style=\"text-align: right;\">\n",
       "      <th></th>\n",
       "      <th>Timestamp</th>\n",
       "      <th>Over</th>\n",
       "      <th>Bowler</th>\n",
       "      <th>Runs</th>\n",
       "      <th>Wickets</th>\n",
       "      <th>Batsman</th>\n",
       "      <th>Score</th>\n",
       "    </tr>\n",
       "  </thead>\n",
       "  <tbody>\n",
       "    <tr>\n",
       "      <th>0</th>\n",
       "      <td>29/07/2022 23:42:58</td>\n",
       "      <td>1</td>\n",
       "      <td>Bhuvneshwar Kumar</td>\n",
       "      <td>11</td>\n",
       "      <td>0</td>\n",
       "      <td>NaN</td>\n",
       "      <td>11</td>\n",
       "    </tr>\n",
       "    <tr>\n",
       "      <th>1</th>\n",
       "      <td>29/07/2022 23:43:43</td>\n",
       "      <td>2</td>\n",
       "      <td>Arshdeep Singh</td>\n",
       "      <td>11</td>\n",
       "      <td>1</td>\n",
       "      <td>Kyle Mayers</td>\n",
       "      <td>22</td>\n",
       "    </tr>\n",
       "    <tr>\n",
       "      <th>2</th>\n",
       "      <td>29/07/2022 23:44:49</td>\n",
       "      <td>3</td>\n",
       "      <td>Ravindra Jadeja</td>\n",
       "      <td>5</td>\n",
       "      <td>1</td>\n",
       "      <td>Jason Holder</td>\n",
       "      <td>27</td>\n",
       "    </tr>\n",
       "    <tr>\n",
       "      <th>3</th>\n",
       "      <td>29/07/2022 23:45:25</td>\n",
       "      <td>4</td>\n",
       "      <td>Arshdeep Singh</td>\n",
       "      <td>5</td>\n",
       "      <td>0</td>\n",
       "      <td>NaN</td>\n",
       "      <td>32</td>\n",
       "    </tr>\n",
       "    <tr>\n",
       "      <th>4</th>\n",
       "      <td>29/07/2022 23:45:50</td>\n",
       "      <td>5</td>\n",
       "      <td>Ravichandran Ashwin</td>\n",
       "      <td>10</td>\n",
       "      <td>0</td>\n",
       "      <td>NaN</td>\n",
       "      <td>42</td>\n",
       "    </tr>\n",
       "  </tbody>\n",
       "</table>\n",
       "</div>"
      ],
      "text/plain": [
       "             Timestamp  Over               Bowler  Runs  Wickets  \\\n",
       "0  29/07/2022 23:42:58     1    Bhuvneshwar Kumar    11        0   \n",
       "1  29/07/2022 23:43:43     2       Arshdeep Singh    11        1   \n",
       "2  29/07/2022 23:44:49     3      Ravindra Jadeja     5        1   \n",
       "3  29/07/2022 23:45:25     4       Arshdeep Singh     5        0   \n",
       "4  29/07/2022 23:45:50     5  Ravichandran Ashwin    10        0   \n",
       "\n",
       "        Batsman  Score  \n",
       "0           NaN     11  \n",
       "1   Kyle Mayers     22  \n",
       "2  Jason Holder     27  \n",
       "3           NaN     32  \n",
       "4           NaN     42  "
      ]
     },
     "execution_count": 46,
     "metadata": {},
     "output_type": "execute_result"
    }
   ],
   "source": [
    "ind_bowl.head()"
   ]
  },
  {
   "cell_type": "code",
   "execution_count": 47,
   "id": "34db1a43",
   "metadata": {},
   "outputs": [
    {
     "data": {
      "text/html": [
       "<div>\n",
       "<style scoped>\n",
       "    .dataframe tbody tr th:only-of-type {\n",
       "        vertical-align: middle;\n",
       "    }\n",
       "\n",
       "    .dataframe tbody tr th {\n",
       "        vertical-align: top;\n",
       "    }\n",
       "\n",
       "    .dataframe thead th {\n",
       "        text-align: right;\n",
       "    }\n",
       "</style>\n",
       "<table border=\"1\" class=\"dataframe\">\n",
       "  <thead>\n",
       "    <tr style=\"text-align: right;\">\n",
       "      <th></th>\n",
       "      <th>Over</th>\n",
       "      <th>Bowler</th>\n",
       "      <th>Runs</th>\n",
       "      <th>Wickets</th>\n",
       "      <th>Batsman</th>\n",
       "      <th>Score</th>\n",
       "    </tr>\n",
       "  </thead>\n",
       "  <tbody>\n",
       "    <tr>\n",
       "      <th>0</th>\n",
       "      <td>1</td>\n",
       "      <td>Bhuvneshwar Kumar</td>\n",
       "      <td>11</td>\n",
       "      <td>0</td>\n",
       "      <td>NaN</td>\n",
       "      <td>11</td>\n",
       "    </tr>\n",
       "    <tr>\n",
       "      <th>1</th>\n",
       "      <td>2</td>\n",
       "      <td>Arshdeep Singh</td>\n",
       "      <td>11</td>\n",
       "      <td>1</td>\n",
       "      <td>Kyle Mayers</td>\n",
       "      <td>22</td>\n",
       "    </tr>\n",
       "    <tr>\n",
       "      <th>2</th>\n",
       "      <td>3</td>\n",
       "      <td>Ravindra Jadeja</td>\n",
       "      <td>5</td>\n",
       "      <td>1</td>\n",
       "      <td>Jason Holder</td>\n",
       "      <td>27</td>\n",
       "    </tr>\n",
       "    <tr>\n",
       "      <th>3</th>\n",
       "      <td>4</td>\n",
       "      <td>Arshdeep Singh</td>\n",
       "      <td>5</td>\n",
       "      <td>0</td>\n",
       "      <td>NaN</td>\n",
       "      <td>32</td>\n",
       "    </tr>\n",
       "    <tr>\n",
       "      <th>4</th>\n",
       "      <td>5</td>\n",
       "      <td>Ravichandran Ashwin</td>\n",
       "      <td>10</td>\n",
       "      <td>0</td>\n",
       "      <td>NaN</td>\n",
       "      <td>42</td>\n",
       "    </tr>\n",
       "  </tbody>\n",
       "</table>\n",
       "</div>"
      ],
      "text/plain": [
       "   Over               Bowler  Runs  Wickets       Batsman  Score\n",
       "0     1    Bhuvneshwar Kumar    11        0           NaN     11\n",
       "1     2       Arshdeep Singh    11        1   Kyle Mayers     22\n",
       "2     3      Ravindra Jadeja     5        1  Jason Holder     27\n",
       "3     4       Arshdeep Singh     5        0           NaN     32\n",
       "4     5  Ravichandran Ashwin    10        0           NaN     42"
      ]
     },
     "execution_count": 47,
     "metadata": {},
     "output_type": "execute_result"
    }
   ],
   "source": [
    "# Drop the Timestamp column\n",
    "ind_bowl=ind_bowl.drop(labels='Timestamp',axis=1)\n",
    "ind_bowl.head()"
   ]
  },
  {
   "cell_type": "code",
   "execution_count": 48,
   "id": "220f9a39",
   "metadata": {},
   "outputs": [
    {
     "data": {
      "text/plain": [
       "Over        int64\n",
       "Bowler     object\n",
       "Runs        int64\n",
       "Wickets     int64\n",
       "Batsman    object\n",
       "Score       int64\n",
       "dtype: object"
      ]
     },
     "execution_count": 48,
     "metadata": {},
     "output_type": "execute_result"
    }
   ],
   "source": [
    "ind_bowl.dtypes"
   ]
  },
  {
   "cell_type": "code",
   "execution_count": 49,
   "id": "24ae1814",
   "metadata": {},
   "outputs": [
    {
     "name": "stdout",
     "output_type": "stream",
     "text": [
      "<class 'pandas.core.frame.DataFrame'>\n",
      "RangeIndex: 20 entries, 0 to 19\n",
      "Data columns (total 6 columns):\n",
      " #   Column   Non-Null Count  Dtype \n",
      "---  ------   --------------  ----- \n",
      " 0   Over     20 non-null     int64 \n",
      " 1   Bowler   20 non-null     object\n",
      " 2   Runs     20 non-null     int64 \n",
      " 3   Wickets  20 non-null     int64 \n",
      " 4   Batsman  8 non-null      object\n",
      " 5   Score    20 non-null     int64 \n",
      "dtypes: int64(4), object(2)\n",
      "memory usage: 1.1+ KB\n"
     ]
    }
   ],
   "source": [
    "ind_bowl.info()"
   ]
  },
  {
   "cell_type": "code",
   "execution_count": 50,
   "id": "417aacdf",
   "metadata": {},
   "outputs": [
    {
     "data": {
      "text/html": [
       "<div>\n",
       "<style scoped>\n",
       "    .dataframe tbody tr th:only-of-type {\n",
       "        vertical-align: middle;\n",
       "    }\n",
       "\n",
       "    .dataframe tbody tr th {\n",
       "        vertical-align: top;\n",
       "    }\n",
       "\n",
       "    .dataframe thead th {\n",
       "        text-align: right;\n",
       "    }\n",
       "</style>\n",
       "<table border=\"1\" class=\"dataframe\">\n",
       "  <thead>\n",
       "    <tr style=\"text-align: right;\">\n",
       "      <th></th>\n",
       "      <th>Over</th>\n",
       "      <th>Runs</th>\n",
       "      <th>Wickets</th>\n",
       "      <th>Score</th>\n",
       "    </tr>\n",
       "  </thead>\n",
       "  <tbody>\n",
       "    <tr>\n",
       "      <th>count</th>\n",
       "      <td>20.00000</td>\n",
       "      <td>20.000000</td>\n",
       "      <td>20.000000</td>\n",
       "      <td>20.000000</td>\n",
       "    </tr>\n",
       "    <tr>\n",
       "      <th>mean</th>\n",
       "      <td>10.50000</td>\n",
       "      <td>6.100000</td>\n",
       "      <td>0.400000</td>\n",
       "      <td>71.150000</td>\n",
       "    </tr>\n",
       "    <tr>\n",
       "      <th>std</th>\n",
       "      <td>5.91608</td>\n",
       "      <td>4.115439</td>\n",
       "      <td>0.502625</td>\n",
       "      <td>33.093607</td>\n",
       "    </tr>\n",
       "    <tr>\n",
       "      <th>min</th>\n",
       "      <td>1.00000</td>\n",
       "      <td>0.000000</td>\n",
       "      <td>0.000000</td>\n",
       "      <td>11.000000</td>\n",
       "    </tr>\n",
       "    <tr>\n",
       "      <th>25%</th>\n",
       "      <td>5.75000</td>\n",
       "      <td>2.000000</td>\n",
       "      <td>0.000000</td>\n",
       "      <td>42.000000</td>\n",
       "    </tr>\n",
       "    <tr>\n",
       "      <th>50%</th>\n",
       "      <td>10.50000</td>\n",
       "      <td>5.000000</td>\n",
       "      <td>0.000000</td>\n",
       "      <td>77.500000</td>\n",
       "    </tr>\n",
       "    <tr>\n",
       "      <th>75%</th>\n",
       "      <td>15.25000</td>\n",
       "      <td>10.000000</td>\n",
       "      <td>1.000000</td>\n",
       "      <td>98.500000</td>\n",
       "    </tr>\n",
       "    <tr>\n",
       "      <th>max</th>\n",
       "      <td>20.00000</td>\n",
       "      <td>13.000000</td>\n",
       "      <td>1.000000</td>\n",
       "      <td>122.000000</td>\n",
       "    </tr>\n",
       "  </tbody>\n",
       "</table>\n",
       "</div>"
      ],
      "text/plain": [
       "           Over       Runs    Wickets       Score\n",
       "count  20.00000  20.000000  20.000000   20.000000\n",
       "mean   10.50000   6.100000   0.400000   71.150000\n",
       "std     5.91608   4.115439   0.502625   33.093607\n",
       "min     1.00000   0.000000   0.000000   11.000000\n",
       "25%     5.75000   2.000000   0.000000   42.000000\n",
       "50%    10.50000   5.000000   0.000000   77.500000\n",
       "75%    15.25000  10.000000   1.000000   98.500000\n",
       "max    20.00000  13.000000   1.000000  122.000000"
      ]
     },
     "execution_count": 50,
     "metadata": {},
     "output_type": "execute_result"
    }
   ],
   "source": [
    "ind_bowl.describe()"
   ]
  },
  {
   "cell_type": "code",
   "execution_count": 51,
   "id": "6f85c66f",
   "metadata": {},
   "outputs": [
    {
     "data": {
      "text/plain": [
       "count    20.000000\n",
       "mean      6.100000\n",
       "std       4.115439\n",
       "min       0.000000\n",
       "25%       2.000000\n",
       "50%       5.000000\n",
       "75%      10.000000\n",
       "max      13.000000\n",
       "Name: Runs, dtype: float64"
      ]
     },
     "execution_count": 51,
     "metadata": {},
     "output_type": "execute_result"
    }
   ],
   "source": [
    "ind_bowl.Runs.describe()"
   ]
  },
  {
   "cell_type": "markdown",
   "id": "ac241137",
   "metadata": {},
   "source": [
    "#### Total Runs"
   ]
  },
  {
   "cell_type": "code",
   "execution_count": 52,
   "id": "94b28838",
   "metadata": {},
   "outputs": [
    {
     "data": {
      "text/plain": [
       "122"
      ]
     },
     "execution_count": 52,
     "metadata": {},
     "output_type": "execute_result"
    }
   ],
   "source": [
    "sum(ind_bowl['Runs'])"
   ]
  },
  {
   "cell_type": "markdown",
   "id": "7485b75f",
   "metadata": {},
   "source": [
    "#### West Indies Batting Performance"
   ]
  },
  {
   "cell_type": "code",
   "execution_count": 53,
   "id": "41878753",
   "metadata": {},
   "outputs": [
    {
     "data": {
      "image/png": "[encoded data removed]",
      "text/plain": [
       "<Figure size 864x576 with 1 Axes>"
      ]
     },
     "metadata": {
      "needs_background": "light"
     },
     "output_type": "display_data"
    }
   ],
   "source": [
    "# Import Libraries\n",
    "import matplotlib.pyplot as plt\n",
    "\n",
    "# Create figure\n",
    "fig = plt.figure()\n",
    "\n",
    "# Figure size\n",
    "fig.set_size_inches(12,8)\n",
    "\n",
    "x=ind_bowl[\"Over\"]\n",
    "y=ind_bowl[\"Runs\"]\n",
    "plt.bar(x,y,color='brown',width=0.72,label=\"Runs\")\n",
    "plt.xlabel(\"Overs\")\n",
    "plt.ylabel(\"Runs\")\n",
    "plt.title('Runs of individual overs')\n",
    "plt.legend()\n",
    "plt.show()\n"
   ]
  },
  {
   "cell_type": "code",
   "execution_count": 54,
   "id": "d6b76c50",
   "metadata": {},
   "outputs": [
    {
     "data": {
      "image/png": "[encoded data removed]",
      "text/plain": [
       "<Figure size 864x576 with 1 Axes>"
      ]
     },
     "metadata": {
      "needs_background": "light"
     },
     "output_type": "display_data"
    }
   ],
   "source": [
    "# Import Libraries\n",
    "import matplotlib.pyplot as plt\n",
    "\n",
    "# Create figure\n",
    "fig = plt.figure()\n",
    "\n",
    "# Figure size\n",
    "fig.set_size_inches(12,8)\n",
    "\n",
    "x=ind_bowl[\"Over\"]\n",
    "y=ind_bowl[\"Score\"]\n",
    "plt.plot(x,y,color='brown',linestyle='dashed',label=\"West Indies\")#marker='o'\n",
    "plt.xlabel(\"Overs\")\n",
    "plt.ylabel(\"Runs\")\n",
    "plt.title('Scorecard',fontsize=20)\n",
    "plt.grid()\n",
    "plt.legend()\n",
    "plt.show()"
   ]
  },
  {
   "cell_type": "code",
   "execution_count": 55,
   "id": "c950e011",
   "metadata": {},
   "outputs": [
    {
     "data": {
      "text/plain": [
       "2     4\n",
       "11    3\n",
       "5     3\n",
       "10    3\n",
       "0     1\n",
       "13    1\n",
       "6     1\n",
       "9     1\n",
       "3     1\n",
       "1     1\n",
       "4     1\n",
       "Name: Runs, dtype: int64"
      ]
     },
     "execution_count": 55,
     "metadata": {},
     "output_type": "execute_result"
    }
   ],
   "source": [
    "ind_bowl.Runs.value_counts()"
   ]
  },
  {
   "cell_type": "code",
   "execution_count": 56,
   "id": "fe452be1",
   "metadata": {},
   "outputs": [
    {
     "data": {
      "text/plain": [
       "<AxesSubplot:xlabel='Runs', ylabel='Frequency'>"
      ]
     },
     "execution_count": 56,
     "metadata": {},
     "output_type": "execute_result"
    },
    {
     "data": {
      "image/png": "[encoded data removed]",
      "text/plain": [
       "<Figure size 864x576 with 1 Axes>"
      ]
     },
     "metadata": {
      "needs_background": "light"
     },
     "output_type": "display_data"
    }
   ],
   "source": [
    "# Import Libraries\n",
    "import matplotlib.pyplot as plt\n",
    "\n",
    "# Create figure\n",
    "fig = plt.figure()\n",
    "\n",
    "# Figure size\n",
    "fig.set_size_inches(12,8)\n",
    "plt.xlabel(\"Runs\")\n",
    "ind_bowl.Runs.plot(kind=\"hist\",color='brown')"
   ]
  },
  {
   "cell_type": "markdown",
   "id": "fe99cdc2",
   "metadata": {},
   "source": [
    "#### India Bowling Performance"
   ]
  },
  {
   "cell_type": "code",
   "execution_count": 57,
   "id": "6bdfef3b",
   "metadata": {},
   "outputs": [
    {
     "data": {
      "text/plain": [
       "array(['Bhuvneshwar Kumar', 'Arshdeep Singh', 'Ravindra Jadeja',\n",
       "       'Ravichandran Ashwin', 'Hardik Pandya', 'Ravi Bishnoi'],\n",
       "      dtype=object)"
      ]
     },
     "execution_count": 57,
     "metadata": {},
     "output_type": "execute_result"
    }
   ],
   "source": [
    "ind_bowl.Bowler.unique()"
   ]
  },
  {
   "cell_type": "code",
   "execution_count": 58,
   "id": "5e96c59d",
   "metadata": {},
   "outputs": [
    {
     "data": {
      "text/plain": [
       "6"
      ]
     },
     "execution_count": 58,
     "metadata": {},
     "output_type": "execute_result"
    }
   ],
   "source": [
    "ind_bowl.Bowler.nunique()"
   ]
  },
  {
   "cell_type": "code",
   "execution_count": 59,
   "id": "774c0521",
   "metadata": {},
   "outputs": [
    {
     "data": {
      "text/plain": [
       "Arshdeep Singh         4\n",
       "Ravindra Jadeja        4\n",
       "Ravichandran Ashwin    4\n",
       "Ravi Bishnoi           4\n",
       "Bhuvneshwar Kumar      2\n",
       "Hardik Pandya          2\n",
       "Name: Bowler, dtype: int64"
      ]
     },
     "execution_count": 59,
     "metadata": {},
     "output_type": "execute_result"
    }
   ],
   "source": [
    "# over counts how many overs each bowler bowled\n",
    "ind_bowl.Bowler.value_counts()"
   ]
  },
  {
   "cell_type": "code",
   "execution_count": 60,
   "id": "24b1b6ca",
   "metadata": {},
   "outputs": [
    {
     "data": {
      "text/html": [
       "<div>\n",
       "<style scoped>\n",
       "    .dataframe tbody tr th:only-of-type {\n",
       "        vertical-align: middle;\n",
       "    }\n",
       "\n",
       "    .dataframe tbody tr th {\n",
       "        vertical-align: top;\n",
       "    }\n",
       "\n",
       "    .dataframe thead th {\n",
       "        text-align: right;\n",
       "    }\n",
       "</style>\n",
       "<table border=\"1\" class=\"dataframe\">\n",
       "  <thead>\n",
       "    <tr style=\"text-align: right;\">\n",
       "      <th></th>\n",
       "      <th>Runs</th>\n",
       "      <th>Wickets</th>\n",
       "    </tr>\n",
       "    <tr>\n",
       "      <th>Bowler</th>\n",
       "      <th></th>\n",
       "      <th></th>\n",
       "    </tr>\n",
       "  </thead>\n",
       "  <tbody>\n",
       "    <tr>\n",
       "      <th>Arshdeep Singh</th>\n",
       "      <td>25</td>\n",
       "      <td>2</td>\n",
       "    </tr>\n",
       "    <tr>\n",
       "      <th>Bhuvneshwar Kumar</th>\n",
       "      <td>11</td>\n",
       "      <td>1</td>\n",
       "    </tr>\n",
       "    <tr>\n",
       "      <th>Hardik Pandya</th>\n",
       "      <td>12</td>\n",
       "      <td>0</td>\n",
       "    </tr>\n",
       "    <tr>\n",
       "      <th>Ravi Bishnoi</th>\n",
       "      <td>26</td>\n",
       "      <td>2</td>\n",
       "    </tr>\n",
       "    <tr>\n",
       "      <th>Ravichandran Ashwin</th>\n",
       "      <td>22</td>\n",
       "      <td>2</td>\n",
       "    </tr>\n",
       "    <tr>\n",
       "      <th>Ravindra Jadeja</th>\n",
       "      <td>26</td>\n",
       "      <td>1</td>\n",
       "    </tr>\n",
       "  </tbody>\n",
       "</table>\n",
       "</div>"
      ],
      "text/plain": [
       "                     Runs  Wickets\n",
       "Bowler                            \n",
       "Arshdeep Singh         25        2\n",
       "Bhuvneshwar Kumar      11        1\n",
       "Hardik Pandya          12        0\n",
       "Ravi Bishnoi           26        2\n",
       "Ravichandran Ashwin    22        2\n",
       "Ravindra Jadeja        26        1"
      ]
     },
     "execution_count": 60,
     "metadata": {},
     "output_type": "execute_result"
    }
   ],
   "source": [
    "ind_bowl=pd.DataFrame(ind_bowl,columns=[\"Bowler\",\"Runs\",\"Wickets\"])\n",
    "ind_bowl.groupby(\"Bowler\").sum(\"Runs\")#.sum(\"Runs\")"
   ]
  },
  {
   "cell_type": "code",
   "execution_count": 61,
   "id": "d213dc86",
   "metadata": {},
   "outputs": [],
   "source": [
    "Bowler=['Arshdeep Singh','Bhuvneshwar Kumar','Hardik Pandya',\n",
    "        'Ravi Bishnoi','Ravichandran Ashwin','Ravindra Jadeja']\n",
    "Runs=[25,11,12,26,22,26]"
   ]
  },
  {
   "cell_type": "code",
   "execution_count": 62,
   "id": "f7386dae",
   "metadata": {},
   "outputs": [
    {
     "data": {
      "image/png": "[encoded data removed]",
      "text/plain": [
       "<Figure size 1080x720 with 1 Axes>"
      ]
     },
     "metadata": {
      "needs_background": "light"
     },
     "output_type": "display_data"
    }
   ],
   "source": [
    "# Import Libraries\n",
    "import matplotlib.pyplot as plt\n",
    "\n",
    "# Create figure\n",
    "fig = plt.figure()\n",
    "\n",
    "# Figure size\n",
    "fig.set_size_inches(15,10)\n",
    "\n",
    "x=Bowler\n",
    "y=Runs\n",
    "plt.bar(x,y,color='royalblue',width=0.72,label=\"Total Runs Spend\")\n",
    "plt.xlabel(\"Bowlers\")\n",
    "plt.ylabel(\"Runs\")\n",
    "plt.title('Runs spends by individual bowlers')\n",
    "plt.legend()\n",
    "plt.tight_layout()\n",
    "plt.show()"
   ]
  },
  {
   "cell_type": "code",
   "execution_count": 63,
   "id": "5566e06c",
   "metadata": {},
   "outputs": [
    {
     "data": {
      "text/plain": [
       "<AxesSubplot:xlabel='Bowler'>"
      ]
     },
     "execution_count": 63,
     "metadata": {},
     "output_type": "execute_result"
    },
    {
     "data": {
      "image/png": "[encoded data removed]",
      "text/plain": [
       "<Figure size 432x288 with 1 Axes>"
      ]
     },
     "metadata": {
      "needs_background": "light"
     },
     "output_type": "display_data"
    }
   ],
   "source": [
    "ind_bowl=ind_bowl.groupby(\"Bowler\")[\"Runs\"].sum()\n",
    "ind_bowl.plot(kind=\"bar\")"
   ]
  },
  {
   "cell_type": "code",
   "execution_count": 64,
   "id": "c49bca5e",
   "metadata": {},
   "outputs": [],
   "source": [
    "ind_bowl=pd.read_csv(\"India_Bowling_1st_t20.csv\")"
   ]
  },
  {
   "cell_type": "code",
   "execution_count": 65,
   "id": "8365cd3b",
   "metadata": {},
   "outputs": [
    {
     "data": {
      "text/plain": [
       "array([nan, 'Kyle Mayers', 'Jason Holder', 'Sharmarh Brooks',\n",
       "       'Nicholas Pooran', 'Rovman Powell', 'Shimron Hetmyer',\n",
       "       'Odean Smith', 'Akeal Hosein'], dtype=object)"
      ]
     },
     "execution_count": 65,
     "metadata": {},
     "output_type": "execute_result"
    }
   ],
   "source": [
    "ind_bowl.Batsman.unique()"
   ]
  },
  {
   "cell_type": "code",
   "execution_count": 66,
   "id": "5663b260",
   "metadata": {},
   "outputs": [
    {
     "data": {
      "text/plain": [
       "8"
      ]
     },
     "execution_count": 66,
     "metadata": {},
     "output_type": "execute_result"
    }
   ],
   "source": [
    "ind_bowl.Batsman.nunique()"
   ]
  },
  {
   "cell_type": "code",
   "execution_count": 67,
   "id": "a4f2afde",
   "metadata": {},
   "outputs": [
    {
     "data": {
      "text/html": [
       "<div>\n",
       "<style scoped>\n",
       "    .dataframe tbody tr th:only-of-type {\n",
       "        vertical-align: middle;\n",
       "    }\n",
       "\n",
       "    .dataframe tbody tr th {\n",
       "        vertical-align: top;\n",
       "    }\n",
       "\n",
       "    .dataframe thead th {\n",
       "        text-align: right;\n",
       "    }\n",
       "</style>\n",
       "<table border=\"1\" class=\"dataframe\">\n",
       "  <thead>\n",
       "    <tr style=\"text-align: right;\">\n",
       "      <th>Bowler</th>\n",
       "      <th>Arshdeep Singh</th>\n",
       "      <th>Bhuvneshwar Kumar</th>\n",
       "      <th>Ravi Bishnoi</th>\n",
       "      <th>Ravichandran Ashwin</th>\n",
       "      <th>Ravindra Jadeja</th>\n",
       "    </tr>\n",
       "    <tr>\n",
       "      <th>Batsman</th>\n",
       "      <th></th>\n",
       "      <th></th>\n",
       "      <th></th>\n",
       "      <th></th>\n",
       "      <th></th>\n",
       "    </tr>\n",
       "  </thead>\n",
       "  <tbody>\n",
       "    <tr>\n",
       "      <th>Akeal Hosein</th>\n",
       "      <td>1</td>\n",
       "      <td>0</td>\n",
       "      <td>0</td>\n",
       "      <td>0</td>\n",
       "      <td>0</td>\n",
       "    </tr>\n",
       "    <tr>\n",
       "      <th>Jason Holder</th>\n",
       "      <td>0</td>\n",
       "      <td>0</td>\n",
       "      <td>0</td>\n",
       "      <td>0</td>\n",
       "      <td>1</td>\n",
       "    </tr>\n",
       "    <tr>\n",
       "      <th>Kyle Mayers</th>\n",
       "      <td>1</td>\n",
       "      <td>0</td>\n",
       "      <td>0</td>\n",
       "      <td>0</td>\n",
       "      <td>0</td>\n",
       "    </tr>\n",
       "    <tr>\n",
       "      <th>Nicholas Pooran</th>\n",
       "      <td>0</td>\n",
       "      <td>0</td>\n",
       "      <td>0</td>\n",
       "      <td>1</td>\n",
       "      <td>0</td>\n",
       "    </tr>\n",
       "    <tr>\n",
       "      <th>Odean Smith</th>\n",
       "      <td>0</td>\n",
       "      <td>0</td>\n",
       "      <td>1</td>\n",
       "      <td>0</td>\n",
       "      <td>0</td>\n",
       "    </tr>\n",
       "    <tr>\n",
       "      <th>Rovman Powell</th>\n",
       "      <td>0</td>\n",
       "      <td>0</td>\n",
       "      <td>1</td>\n",
       "      <td>0</td>\n",
       "      <td>0</td>\n",
       "    </tr>\n",
       "    <tr>\n",
       "      <th>Sharmarh Brooks</th>\n",
       "      <td>0</td>\n",
       "      <td>1</td>\n",
       "      <td>0</td>\n",
       "      <td>0</td>\n",
       "      <td>0</td>\n",
       "    </tr>\n",
       "    <tr>\n",
       "      <th>Shimron Hetmyer</th>\n",
       "      <td>0</td>\n",
       "      <td>0</td>\n",
       "      <td>0</td>\n",
       "      <td>1</td>\n",
       "      <td>0</td>\n",
       "    </tr>\n",
       "  </tbody>\n",
       "</table>\n",
       "</div>"
      ],
      "text/plain": [
       "Bowler           Arshdeep Singh  Bhuvneshwar Kumar  Ravi Bishnoi  \\\n",
       "Batsman                                                            \n",
       "Akeal Hosein                  1                  0             0   \n",
       "Jason Holder                  0                  0             0   \n",
       "Kyle Mayers                   1                  0             0   \n",
       "Nicholas Pooran               0                  0             0   \n",
       "Odean Smith                   0                  0             1   \n",
       "Rovman Powell                 0                  0             1   \n",
       "Sharmarh Brooks               0                  1             0   \n",
       "Shimron Hetmyer               0                  0             0   \n",
       "\n",
       "Bowler           Ravichandran Ashwin  Ravindra Jadeja  \n",
       "Batsman                                                \n",
       "Akeal Hosein                       0                0  \n",
       "Jason Holder                       0                1  \n",
       "Kyle Mayers                        0                0  \n",
       "Nicholas Pooran                    1                0  \n",
       "Odean Smith                        0                0  \n",
       "Rovman Powell                      0                0  \n",
       "Sharmarh Brooks                    0                0  \n",
       "Shimron Hetmyer                    1                0  "
      ]
     },
     "execution_count": 67,
     "metadata": {},
     "output_type": "execute_result"
    }
   ],
   "source": [
    "#which Bowler out which Batsman\n",
    "pd.crosstab(ind_bowl.Batsman,ind_bowl.Bowler)"
   ]
  },
  {
   "cell_type": "code",
   "execution_count": 68,
   "id": "5b287aa7",
   "metadata": {},
   "outputs": [
    {
     "data": {
      "text/html": [
       "<div>\n",
       "<style scoped>\n",
       "    .dataframe tbody tr th:only-of-type {\n",
       "        vertical-align: middle;\n",
       "    }\n",
       "\n",
       "    .dataframe tbody tr th {\n",
       "        vertical-align: top;\n",
       "    }\n",
       "\n",
       "    .dataframe thead th {\n",
       "        text-align: right;\n",
       "    }\n",
       "</style>\n",
       "<table border=\"1\" class=\"dataframe\">\n",
       "  <thead>\n",
       "    <tr style=\"text-align: right;\">\n",
       "      <th>Bowler</th>\n",
       "      <th>Arshdeep Singh</th>\n",
       "      <th>Bhuvneshwar Kumar</th>\n",
       "      <th>Hardik Pandya</th>\n",
       "      <th>Ravi Bishnoi</th>\n",
       "      <th>Ravichandran Ashwin</th>\n",
       "      <th>Ravindra Jadeja</th>\n",
       "    </tr>\n",
       "    <tr>\n",
       "      <th>Over</th>\n",
       "      <th></th>\n",
       "      <th></th>\n",
       "      <th></th>\n",
       "      <th></th>\n",
       "      <th></th>\n",
       "      <th></th>\n",
       "    </tr>\n",
       "  </thead>\n",
       "  <tbody>\n",
       "    <tr>\n",
       "      <th>1</th>\n",
       "      <td>0</td>\n",
       "      <td>1</td>\n",
       "      <td>0</td>\n",
       "      <td>0</td>\n",
       "      <td>0</td>\n",
       "      <td>0</td>\n",
       "    </tr>\n",
       "    <tr>\n",
       "      <th>2</th>\n",
       "      <td>1</td>\n",
       "      <td>0</td>\n",
       "      <td>0</td>\n",
       "      <td>0</td>\n",
       "      <td>0</td>\n",
       "      <td>0</td>\n",
       "    </tr>\n",
       "    <tr>\n",
       "      <th>3</th>\n",
       "      <td>0</td>\n",
       "      <td>0</td>\n",
       "      <td>0</td>\n",
       "      <td>0</td>\n",
       "      <td>0</td>\n",
       "      <td>1</td>\n",
       "    </tr>\n",
       "    <tr>\n",
       "      <th>4</th>\n",
       "      <td>1</td>\n",
       "      <td>0</td>\n",
       "      <td>0</td>\n",
       "      <td>0</td>\n",
       "      <td>0</td>\n",
       "      <td>0</td>\n",
       "    </tr>\n",
       "    <tr>\n",
       "      <th>5</th>\n",
       "      <td>0</td>\n",
       "      <td>0</td>\n",
       "      <td>0</td>\n",
       "      <td>0</td>\n",
       "      <td>1</td>\n",
       "      <td>0</td>\n",
       "    </tr>\n",
       "    <tr>\n",
       "      <th>6</th>\n",
       "      <td>0</td>\n",
       "      <td>1</td>\n",
       "      <td>0</td>\n",
       "      <td>0</td>\n",
       "      <td>0</td>\n",
       "      <td>0</td>\n",
       "    </tr>\n",
       "    <tr>\n",
       "      <th>7</th>\n",
       "      <td>0</td>\n",
       "      <td>0</td>\n",
       "      <td>1</td>\n",
       "      <td>0</td>\n",
       "      <td>0</td>\n",
       "      <td>0</td>\n",
       "    </tr>\n",
       "    <tr>\n",
       "      <th>8</th>\n",
       "      <td>0</td>\n",
       "      <td>0</td>\n",
       "      <td>0</td>\n",
       "      <td>0</td>\n",
       "      <td>0</td>\n",
       "      <td>1</td>\n",
       "    </tr>\n",
       "    <tr>\n",
       "      <th>9</th>\n",
       "      <td>0</td>\n",
       "      <td>0</td>\n",
       "      <td>0</td>\n",
       "      <td>0</td>\n",
       "      <td>1</td>\n",
       "      <td>0</td>\n",
       "    </tr>\n",
       "    <tr>\n",
       "      <th>10</th>\n",
       "      <td>0</td>\n",
       "      <td>0</td>\n",
       "      <td>0</td>\n",
       "      <td>0</td>\n",
       "      <td>0</td>\n",
       "      <td>1</td>\n",
       "    </tr>\n",
       "    <tr>\n",
       "      <th>11</th>\n",
       "      <td>0</td>\n",
       "      <td>0</td>\n",
       "      <td>0</td>\n",
       "      <td>0</td>\n",
       "      <td>1</td>\n",
       "      <td>0</td>\n",
       "    </tr>\n",
       "    <tr>\n",
       "      <th>12</th>\n",
       "      <td>0</td>\n",
       "      <td>0</td>\n",
       "      <td>0</td>\n",
       "      <td>1</td>\n",
       "      <td>0</td>\n",
       "      <td>0</td>\n",
       "    </tr>\n",
       "    <tr>\n",
       "      <th>13</th>\n",
       "      <td>0</td>\n",
       "      <td>0</td>\n",
       "      <td>0</td>\n",
       "      <td>0</td>\n",
       "      <td>1</td>\n",
       "      <td>0</td>\n",
       "    </tr>\n",
       "    <tr>\n",
       "      <th>14</th>\n",
       "      <td>0</td>\n",
       "      <td>0</td>\n",
       "      <td>0</td>\n",
       "      <td>1</td>\n",
       "      <td>0</td>\n",
       "      <td>0</td>\n",
       "    </tr>\n",
       "    <tr>\n",
       "      <th>15</th>\n",
       "      <td>0</td>\n",
       "      <td>0</td>\n",
       "      <td>1</td>\n",
       "      <td>0</td>\n",
       "      <td>0</td>\n",
       "      <td>0</td>\n",
       "    </tr>\n",
       "    <tr>\n",
       "      <th>16</th>\n",
       "      <td>0</td>\n",
       "      <td>0</td>\n",
       "      <td>0</td>\n",
       "      <td>1</td>\n",
       "      <td>0</td>\n",
       "      <td>0</td>\n",
       "    </tr>\n",
       "    <tr>\n",
       "      <th>17</th>\n",
       "      <td>1</td>\n",
       "      <td>0</td>\n",
       "      <td>0</td>\n",
       "      <td>0</td>\n",
       "      <td>0</td>\n",
       "      <td>0</td>\n",
       "    </tr>\n",
       "    <tr>\n",
       "      <th>18</th>\n",
       "      <td>0</td>\n",
       "      <td>0</td>\n",
       "      <td>0</td>\n",
       "      <td>0</td>\n",
       "      <td>0</td>\n",
       "      <td>1</td>\n",
       "    </tr>\n",
       "    <tr>\n",
       "      <th>19</th>\n",
       "      <td>1</td>\n",
       "      <td>0</td>\n",
       "      <td>0</td>\n",
       "      <td>0</td>\n",
       "      <td>0</td>\n",
       "      <td>0</td>\n",
       "    </tr>\n",
       "    <tr>\n",
       "      <th>20</th>\n",
       "      <td>0</td>\n",
       "      <td>0</td>\n",
       "      <td>0</td>\n",
       "      <td>1</td>\n",
       "      <td>0</td>\n",
       "      <td>0</td>\n",
       "    </tr>\n",
       "  </tbody>\n",
       "</table>\n",
       "</div>"
      ],
      "text/plain": [
       "Bowler  Arshdeep Singh  Bhuvneshwar Kumar  Hardik Pandya  Ravi Bishnoi  \\\n",
       "Over                                                                     \n",
       "1                    0                  1              0             0   \n",
       "2                    1                  0              0             0   \n",
       "3                    0                  0              0             0   \n",
       "4                    1                  0              0             0   \n",
       "5                    0                  0              0             0   \n",
       "6                    0                  1              0             0   \n",
       "7                    0                  0              1             0   \n",
       "8                    0                  0              0             0   \n",
       "9                    0                  0              0             0   \n",
       "10                   0                  0              0             0   \n",
       "11                   0                  0              0             0   \n",
       "12                   0                  0              0             1   \n",
       "13                   0                  0              0             0   \n",
       "14                   0                  0              0             1   \n",
       "15                   0                  0              1             0   \n",
       "16                   0                  0              0             1   \n",
       "17                   1                  0              0             0   \n",
       "18                   0                  0              0             0   \n",
       "19                   1                  0              0             0   \n",
       "20                   0                  0              0             1   \n",
       "\n",
       "Bowler  Ravichandran Ashwin  Ravindra Jadeja  \n",
       "Over                                          \n",
       "1                         0                0  \n",
       "2                         0                0  \n",
       "3                         0                1  \n",
       "4                         0                0  \n",
       "5                         1                0  \n",
       "6                         0                0  \n",
       "7                         0                0  \n",
       "8                         0                1  \n",
       "9                         1                0  \n",
       "10                        0                1  \n",
       "11                        1                0  \n",
       "12                        0                0  \n",
       "13                        1                0  \n",
       "14                        0                0  \n",
       "15                        0                0  \n",
       "16                        0                0  \n",
       "17                        0                0  \n",
       "18                        0                1  \n",
       "19                        0                0  \n",
       "20                        0                0  "
      ]
     },
     "execution_count": 68,
     "metadata": {},
     "output_type": "execute_result"
    }
   ],
   "source": [
    "#which Bowler Bowled which over\n",
    "pd.crosstab(ind_bowl.Over,ind_bowl.Bowler)"
   ]
  },
  {
   "cell_type": "markdown",
   "id": "fbca9ce9",
   "metadata": {},
   "source": [
    "#### West Indies Fall of wickets"
   ]
  },
  {
   "cell_type": "code",
   "execution_count": 69,
   "id": "ae6b31dc",
   "metadata": {},
   "outputs": [
    {
     "data": {
      "text/html": [
       "<div>\n",
       "<style scoped>\n",
       "    .dataframe tbody tr th:only-of-type {\n",
       "        vertical-align: middle;\n",
       "    }\n",
       "\n",
       "    .dataframe tbody tr th {\n",
       "        vertical-align: top;\n",
       "    }\n",
       "\n",
       "    .dataframe thead th {\n",
       "        text-align: right;\n",
       "    }\n",
       "</style>\n",
       "<table border=\"1\" class=\"dataframe\">\n",
       "  <thead>\n",
       "    <tr style=\"text-align: right;\">\n",
       "      <th>Batsman</th>\n",
       "      <th>Akeal Hosein</th>\n",
       "      <th>Jason Holder</th>\n",
       "      <th>Kyle Mayers</th>\n",
       "      <th>Nicholas Pooran</th>\n",
       "      <th>Odean Smith</th>\n",
       "      <th>Rovman Powell</th>\n",
       "      <th>Sharmarh Brooks</th>\n",
       "      <th>Shimron Hetmyer</th>\n",
       "    </tr>\n",
       "    <tr>\n",
       "      <th>Over</th>\n",
       "      <th></th>\n",
       "      <th></th>\n",
       "      <th></th>\n",
       "      <th></th>\n",
       "      <th></th>\n",
       "      <th></th>\n",
       "      <th></th>\n",
       "      <th></th>\n",
       "    </tr>\n",
       "  </thead>\n",
       "  <tbody>\n",
       "    <tr>\n",
       "      <th>2</th>\n",
       "      <td>0</td>\n",
       "      <td>0</td>\n",
       "      <td>1</td>\n",
       "      <td>0</td>\n",
       "      <td>0</td>\n",
       "      <td>0</td>\n",
       "      <td>0</td>\n",
       "      <td>0</td>\n",
       "    </tr>\n",
       "    <tr>\n",
       "      <th>3</th>\n",
       "      <td>0</td>\n",
       "      <td>1</td>\n",
       "      <td>0</td>\n",
       "      <td>0</td>\n",
       "      <td>0</td>\n",
       "      <td>0</td>\n",
       "      <td>0</td>\n",
       "      <td>0</td>\n",
       "    </tr>\n",
       "    <tr>\n",
       "      <th>6</th>\n",
       "      <td>0</td>\n",
       "      <td>0</td>\n",
       "      <td>0</td>\n",
       "      <td>0</td>\n",
       "      <td>0</td>\n",
       "      <td>0</td>\n",
       "      <td>1</td>\n",
       "      <td>0</td>\n",
       "    </tr>\n",
       "    <tr>\n",
       "      <th>9</th>\n",
       "      <td>0</td>\n",
       "      <td>0</td>\n",
       "      <td>0</td>\n",
       "      <td>1</td>\n",
       "      <td>0</td>\n",
       "      <td>0</td>\n",
       "      <td>0</td>\n",
       "      <td>0</td>\n",
       "    </tr>\n",
       "    <tr>\n",
       "      <th>12</th>\n",
       "      <td>0</td>\n",
       "      <td>0</td>\n",
       "      <td>0</td>\n",
       "      <td>0</td>\n",
       "      <td>0</td>\n",
       "      <td>1</td>\n",
       "      <td>0</td>\n",
       "      <td>0</td>\n",
       "    </tr>\n",
       "    <tr>\n",
       "      <th>13</th>\n",
       "      <td>0</td>\n",
       "      <td>0</td>\n",
       "      <td>0</td>\n",
       "      <td>0</td>\n",
       "      <td>0</td>\n",
       "      <td>0</td>\n",
       "      <td>0</td>\n",
       "      <td>1</td>\n",
       "    </tr>\n",
       "    <tr>\n",
       "      <th>14</th>\n",
       "      <td>0</td>\n",
       "      <td>0</td>\n",
       "      <td>0</td>\n",
       "      <td>0</td>\n",
       "      <td>1</td>\n",
       "      <td>0</td>\n",
       "      <td>0</td>\n",
       "      <td>0</td>\n",
       "    </tr>\n",
       "    <tr>\n",
       "      <th>17</th>\n",
       "      <td>1</td>\n",
       "      <td>0</td>\n",
       "      <td>0</td>\n",
       "      <td>0</td>\n",
       "      <td>0</td>\n",
       "      <td>0</td>\n",
       "      <td>0</td>\n",
       "      <td>0</td>\n",
       "    </tr>\n",
       "  </tbody>\n",
       "</table>\n",
       "</div>"
      ],
      "text/plain": [
       "Batsman  Akeal Hosein  Jason Holder  Kyle Mayers  Nicholas Pooran  \\\n",
       "Over                                                                \n",
       "2                   0             0            1                0   \n",
       "3                   0             1            0                0   \n",
       "6                   0             0            0                0   \n",
       "9                   0             0            0                1   \n",
       "12                  0             0            0                0   \n",
       "13                  0             0            0                0   \n",
       "14                  0             0            0                0   \n",
       "17                  1             0            0                0   \n",
       "\n",
       "Batsman  Odean Smith  Rovman Powell  Sharmarh Brooks  Shimron Hetmyer  \n",
       "Over                                                                   \n",
       "2                  0              0                0                0  \n",
       "3                  0              0                0                0  \n",
       "6                  0              0                1                0  \n",
       "9                  0              0                0                0  \n",
       "12                 0              1                0                0  \n",
       "13                 0              0                0                1  \n",
       "14                 1              0                0                0  \n",
       "17                 0              0                0                0  "
      ]
     },
     "execution_count": 69,
     "metadata": {},
     "output_type": "execute_result"
    }
   ],
   "source": [
    "#which player out in which over\n",
    "pd.crosstab(ind_bowl.Over,ind_bowl.Batsman)"
   ]
  },
  {
   "cell_type": "markdown",
   "id": "6c294e32",
   "metadata": {},
   "source": [
    "#### Match Result"
   ]
  },
  {
   "cell_type": "code",
   "execution_count": 70,
   "id": "86d7c50b",
   "metadata": {},
   "outputs": [
    {
     "name": "stdout",
     "output_type": "stream",
     "text": [
      "IND won by 68 runs\n"
     ]
    }
   ],
   "source": [
    "print(\"IND won by\",Ind-WI,\"runs\")"
   ]
  },
  {
   "cell_type": "code",
   "execution_count": 71,
   "id": "c4b6b08f",
   "metadata": {},
   "outputs": [
    {
     "name": "stdout",
     "output_type": "stream",
     "text": [
      "Player of the Match:-\n",
      "Dinesh Karthik(IND)\n",
      "41*(19)\n"
     ]
    }
   ],
   "source": [
    "print(\"Player of the Match:-\\nDinesh Karthik(IND)\\n41*(19)\")"
   ]
  },
  {
   "cell_type": "code",
   "execution_count": null,
   "id": "082bc351",
   "metadata": {},
   "outputs": [],
   "source": []
  },
  {
   "cell_type": "code",
   "execution_count": null,
   "id": "2235e57f",
   "metadata": {},
   "outputs": [],
   "source": []
  }
 ],
 "metadata": {
  "kernelspec": {
   "display_name": "Python 3 (ipykernel)",
   "language": "python",
   "name": "python3"
  },
  "language_info": {
   "codemirror_mode": {
    "name": "ipython",
    "version": 3
   },
   "file_extension": ".py",
   "mimetype": "text/x-python",
   "name": "python",
   "nbconvert_exporter": "python",
   "pygments_lexer": "ipython3",
   "version": "3.9.12"
  }
 },
 "nbformat": 4,
 "nbformat_minor": 5
}
